{
 "cells": [
  {
   "cell_type": "code",
   "execution_count": 1,
   "metadata": {},
   "outputs": [],
   "source": [
    "import matplotlib.pyplot as plt\n",
    "import scipy.stats as stats\n",
    "import numpy as np\n",
    "import pandas as pd\n",
    "import seaborn as sns\n",
    "import statsmodels.api as sm\n",
    "%matplotlib inline\n",
    "\n",
    "from sklearn.feature_extraction.text import CountVectorizer,HashingVectorizer,TfidfVectorizer\n",
    "from sklearn.naive_bayes import MultinomialNB\n",
    "from nltk.stem import PorterStemmer,WordNetLemmatizer\n",
    "from nltk.tokenize import sent_tokenize, word_tokenize\n",
    "from nltk.corpus import stopwords\n",
    "from nltk.sentiment.vader import SentimentIntensityAnalyzer\n",
    "import string\n",
    "\n",
    "from datetime import datetime\n",
    "from scipy import sparse\n",
    "from sklearn.metrics.pairwise import pairwise_distances\n",
    "import re\n",
    "import os\n",
    "import time"
   ]
  },
  {
   "cell_type": "markdown",
   "metadata": {},
   "source": [
    " ## Data Inspection"
   ]
  },
  {
   "cell_type": "code",
   "execution_count": 2,
   "metadata": {},
   "outputs": [],
   "source": [
    "pd.set_option('display.max_colwidth', 1)"
   ]
  },
  {
   "cell_type": "code",
   "execution_count": 3,
   "metadata": {},
   "outputs": [],
   "source": [
    "df_train = pd.read_csv('./datasets/drugsComTrain_raw.tsv', sep='\\t')"
   ]
  },
  {
   "cell_type": "code",
   "execution_count": 4,
   "metadata": {},
   "outputs": [
    {
     "data": {
      "text/html": [
       "<div>\n",
       "<style scoped>\n",
       "    .dataframe tbody tr th:only-of-type {\n",
       "        vertical-align: middle;\n",
       "    }\n",
       "\n",
       "    .dataframe tbody tr th {\n",
       "        vertical-align: top;\n",
       "    }\n",
       "\n",
       "    .dataframe thead th {\n",
       "        text-align: right;\n",
       "    }\n",
       "</style>\n",
       "<table border=\"1\" class=\"dataframe\">\n",
       "  <thead>\n",
       "    <tr style=\"text-align: right;\">\n",
       "      <th></th>\n",
       "      <th>Unnamed: 0</th>\n",
       "      <th>drugName</th>\n",
       "      <th>condition</th>\n",
       "      <th>review</th>\n",
       "      <th>rating</th>\n",
       "      <th>date</th>\n",
       "      <th>usefulCount</th>\n",
       "    </tr>\n",
       "  </thead>\n",
       "  <tbody>\n",
       "    <tr>\n",
       "      <th>0</th>\n",
       "      <td>206461</td>\n",
       "      <td>Valsartan</td>\n",
       "      <td>Left Ventricular Dysfunction</td>\n",
       "      <td>\"It has no side effect, I take it in combination of Bystolic 5 Mg and Fish Oil\"</td>\n",
       "      <td>9.0</td>\n",
       "      <td>May 20, 2012</td>\n",
       "      <td>27</td>\n",
       "    </tr>\n",
       "    <tr>\n",
       "      <th>1</th>\n",
       "      <td>95260</td>\n",
       "      <td>Guanfacine</td>\n",
       "      <td>ADHD</td>\n",
       "      <td>\"My son is halfway through his fourth week of Intuniv. We became concerned when he began this last week, when he started taking the highest dose he will be on. For two days, he could hardly get out of bed, was very cranky, and slept for nearly 8 hours on a drive home from school vacation (very unusual for him.) I called his doctor on Monday morning and she said to stick it out a few days. See how he did at school, and with getting up in the morning. The last two days have been problem free. He is MUCH more agreeable than ever. He is less emotional (a good thing), less cranky. He is remembering all the things he should. Overall his behavior is better. \\r\\nWe have tried many different medications and so far this is the most effective.\"</td>\n",
       "      <td>8.0</td>\n",
       "      <td>April 27, 2010</td>\n",
       "      <td>192</td>\n",
       "    </tr>\n",
       "    <tr>\n",
       "      <th>2</th>\n",
       "      <td>92703</td>\n",
       "      <td>Lybrel</td>\n",
       "      <td>Birth Control</td>\n",
       "      <td>\"I used to take another oral contraceptive, which had 21 pill cycle, and was very happy- very light periods, max 5 days, no other side effects. But it contained hormone gestodene, which is not available in US, so I switched to Lybrel, because the ingredients are similar. When my other pills ended, I started Lybrel immediately, on my first day of period, as the instructions said. And the period lasted for two weeks. When taking the second pack- same two weeks. And now, with third pack things got even worse- my third period lasted for two weeks and now it&amp;#039;s the end of the third week- I still have daily brown discharge.\\r\\nThe positive side is that I didn&amp;#039;t have any other side effects. The idea of being period free was so tempting... Alas.\"</td>\n",
       "      <td>5.0</td>\n",
       "      <td>December 14, 2009</td>\n",
       "      <td>17</td>\n",
       "    </tr>\n",
       "    <tr>\n",
       "      <th>3</th>\n",
       "      <td>138000</td>\n",
       "      <td>Ortho Evra</td>\n",
       "      <td>Birth Control</td>\n",
       "      <td>\"This is my first time using any form of birth control. I&amp;#039;m glad I went with the patch, I have been on it for 8 months. At first It decreased my libido but that subsided. The only downside is that it made my periods longer (5-6 days to be exact) I used to only have periods for 3-4 days max also made my cramps intense for the first two days of my period, I never had cramps before using birth control. Other than that in happy with the patch\"</td>\n",
       "      <td>8.0</td>\n",
       "      <td>November 3, 2015</td>\n",
       "      <td>10</td>\n",
       "    </tr>\n",
       "    <tr>\n",
       "      <th>4</th>\n",
       "      <td>35696</td>\n",
       "      <td>Buprenorphine / naloxone</td>\n",
       "      <td>Opiate Dependence</td>\n",
       "      <td>\"Suboxone has completely turned my life around.  I feel healthier, I&amp;#039;m excelling at my job and I always have money in my pocket and my savings account.  I had none of those before Suboxone and spent years abusing oxycontin.  My paycheck was already spent by the time I got it and I started resorting to scheming and stealing to fund my addiction.  All that is history.  If you&amp;#039;re ready to stop, there&amp;#039;s a good chance that suboxone will put you on the path of great life again.  I have found the side-effects to be minimal compared to oxycontin.  I&amp;#039;m actually sleeping better.   Slight constipation is about it for me.  It truly is amazing. The cost pales in comparison to what I spent on oxycontin.\"</td>\n",
       "      <td>9.0</td>\n",
       "      <td>November 27, 2016</td>\n",
       "      <td>37</td>\n",
       "    </tr>\n",
       "  </tbody>\n",
       "</table>\n",
       "</div>"
      ],
      "text/plain": [
       "   Unnamed: 0                  drugName                     condition  \\\n",
       "0  206461      Valsartan                 Left Ventricular Dysfunction   \n",
       "1  95260       Guanfacine                ADHD                           \n",
       "2  92703       Lybrel                    Birth Control                  \n",
       "3  138000      Ortho Evra                Birth Control                  \n",
       "4  35696       Buprenorphine / naloxone  Opiate Dependence              \n",
       "\n",
       "                                                                                                                                                                                                                                                                                                                                                                                                                                                                                                                                                                                                                                                                                                                                                                                  review  \\\n",
       "0  \"It has no side effect, I take it in combination of Bystolic 5 Mg and Fish Oil\"                                                                                                                                                                                                                                                                                                                                                                                                                                                                                                                                                                                                                                                                                                         \n",
       "1  \"My son is halfway through his fourth week of Intuniv. We became concerned when he began this last week, when he started taking the highest dose he will be on. For two days, he could hardly get out of bed, was very cranky, and slept for nearly 8 hours on a drive home from school vacation (very unusual for him.) I called his doctor on Monday morning and she said to stick it out a few days. See how he did at school, and with getting up in the morning. The last two days have been problem free. He is MUCH more agreeable than ever. He is less emotional (a good thing), less cranky. He is remembering all the things he should. Overall his behavior is better. \\r\\nWe have tried many different medications and so far this is the most effective.\"                 \n",
       "2  \"I used to take another oral contraceptive, which had 21 pill cycle, and was very happy- very light periods, max 5 days, no other side effects. But it contained hormone gestodene, which is not available in US, so I switched to Lybrel, because the ingredients are similar. When my other pills ended, I started Lybrel immediately, on my first day of period, as the instructions said. And the period lasted for two weeks. When taking the second pack- same two weeks. And now, with third pack things got even worse- my third period lasted for two weeks and now it&#039;s the end of the third week- I still have daily brown discharge.\\r\\nThe positive side is that I didn&#039;t have any other side effects. The idea of being period free was so tempting... Alas.\"   \n",
       "3  \"This is my first time using any form of birth control. I&#039;m glad I went with the patch, I have been on it for 8 months. At first It decreased my libido but that subsided. The only downside is that it made my periods longer (5-6 days to be exact) I used to only have periods for 3-4 days max also made my cramps intense for the first two days of my period, I never had cramps before using birth control. Other than that in happy with the patch\"                                                                                                                                                                                                                                                                                                                        \n",
       "4  \"Suboxone has completely turned my life around.  I feel healthier, I&#039;m excelling at my job and I always have money in my pocket and my savings account.  I had none of those before Suboxone and spent years abusing oxycontin.  My paycheck was already spent by the time I got it and I started resorting to scheming and stealing to fund my addiction.  All that is history.  If you&#039;re ready to stop, there&#039;s a good chance that suboxone will put you on the path of great life again.  I have found the side-effects to be minimal compared to oxycontin.  I&#039;m actually sleeping better.   Slight constipation is about it for me.  It truly is amazing. The cost pales in comparison to what I spent on oxycontin.\"                                         \n",
       "\n",
       "   rating               date  usefulCount  \n",
       "0  9.0     May 20, 2012       27           \n",
       "1  8.0     April 27, 2010     192          \n",
       "2  5.0     December 14, 2009  17           \n",
       "3  8.0     November 3, 2015   10           \n",
       "4  9.0     November 27, 2016  37           "
      ]
     },
     "execution_count": 4,
     "metadata": {},
     "output_type": "execute_result"
    }
   ],
   "source": [
    "df_train.head()"
   ]
  },
  {
   "cell_type": "code",
   "execution_count": 5,
   "metadata": {},
   "outputs": [],
   "source": [
    "df_test = pd.read_csv('./datasets/drugsComTest_raw.tsv', sep='\\t')"
   ]
  },
  {
   "cell_type": "code",
   "execution_count": 6,
   "metadata": {},
   "outputs": [
    {
     "data": {
      "text/html": [
       "<div>\n",
       "<style scoped>\n",
       "    .dataframe tbody tr th:only-of-type {\n",
       "        vertical-align: middle;\n",
       "    }\n",
       "\n",
       "    .dataframe tbody tr th {\n",
       "        vertical-align: top;\n",
       "    }\n",
       "\n",
       "    .dataframe thead th {\n",
       "        text-align: right;\n",
       "    }\n",
       "</style>\n",
       "<table border=\"1\" class=\"dataframe\">\n",
       "  <thead>\n",
       "    <tr style=\"text-align: right;\">\n",
       "      <th></th>\n",
       "      <th>Unnamed: 0</th>\n",
       "      <th>drugName</th>\n",
       "      <th>condition</th>\n",
       "      <th>review</th>\n",
       "      <th>rating</th>\n",
       "      <th>date</th>\n",
       "      <th>usefulCount</th>\n",
       "    </tr>\n",
       "  </thead>\n",
       "  <tbody>\n",
       "    <tr>\n",
       "      <th>0</th>\n",
       "      <td>163740</td>\n",
       "      <td>Mirtazapine</td>\n",
       "      <td>Depression</td>\n",
       "      <td>\"I&amp;#039;ve tried a few antidepressants over the years (citalopram, fluoxetine, amitriptyline), but none of those helped with my depression, insomnia &amp;amp; anxiety. My doctor suggested and changed me onto 45mg mirtazapine and this medicine has saved my life. Thankfully I have had no side effects especially the most common - weight gain, I&amp;#039;ve actually lost alot of weight. I still have suicidal thoughts but mirtazapine has saved me.\"</td>\n",
       "      <td>10.0</td>\n",
       "      <td>February 28, 2012</td>\n",
       "      <td>22</td>\n",
       "    </tr>\n",
       "    <tr>\n",
       "      <th>1</th>\n",
       "      <td>206473</td>\n",
       "      <td>Mesalamine</td>\n",
       "      <td>Crohn's Disease, Maintenance</td>\n",
       "      <td>\"My son has Crohn&amp;#039;s disease and has done very well on the Asacol.  He has no complaints and shows no side effects.  He has taken as many as nine tablets per day at one time.  I&amp;#039;ve been very happy with the results, reducing his bouts of diarrhea drastically.\"</td>\n",
       "      <td>8.0</td>\n",
       "      <td>May 17, 2009</td>\n",
       "      <td>17</td>\n",
       "    </tr>\n",
       "    <tr>\n",
       "      <th>2</th>\n",
       "      <td>159672</td>\n",
       "      <td>Bactrim</td>\n",
       "      <td>Urinary Tract Infection</td>\n",
       "      <td>\"Quick reduction of symptoms\"</td>\n",
       "      <td>9.0</td>\n",
       "      <td>September 29, 2017</td>\n",
       "      <td>3</td>\n",
       "    </tr>\n",
       "    <tr>\n",
       "      <th>3</th>\n",
       "      <td>39293</td>\n",
       "      <td>Contrave</td>\n",
       "      <td>Weight Loss</td>\n",
       "      <td>\"Contrave combines drugs that were used for alcohol, smoking, and opioid cessation. People lose weight on it because it also helps control over-eating. I have no doubt that most obesity is caused from sugar/carb addiction, which is just as powerful as any drug. I have been taking it for five days, and the good news is, it seems to go to work immediately. I feel hungry before I want food now. I really don&amp;#039;t care to eat; it&amp;#039;s just to fill my stomach. Since I have only been on it a few days, I don&amp;#039;t know if I&amp;#039;ve lost weight (I don&amp;#039;t have a scale), but my clothes do feel a little looser, so maybe a pound or two. I&amp;#039;m hoping that after a few months on this medication, I will develop healthier habits that I can continue without the aid of Contrave.\"</td>\n",
       "      <td>9.0</td>\n",
       "      <td>March 5, 2017</td>\n",
       "      <td>35</td>\n",
       "    </tr>\n",
       "    <tr>\n",
       "      <th>4</th>\n",
       "      <td>97768</td>\n",
       "      <td>Cyclafem 1 / 35</td>\n",
       "      <td>Birth Control</td>\n",
       "      <td>\"I have been on this birth control for one cycle. After reading some of the reviews on this type and similar birth controls I was a bit apprehensive to start. Im giving this birth control a 9 out of 10 as I have not been on it long enough for a 10. So far I love this birth control! My side effects have been so minimal its like Im not even on birth control! I have experienced mild headaches here and there and some nausea but other than that ive been feeling great! I got my period on cue on the third day of the inactive pills and I had no idea it was coming because I had zero pms! My period was very light and I barely had any cramping! I had unprotected sex the first month and obviously didn&amp;#039;t get pregnant so I&amp;#039;m very pleased! Highly recommend\"</td>\n",
       "      <td>9.0</td>\n",
       "      <td>October 22, 2015</td>\n",
       "      <td>4</td>\n",
       "    </tr>\n",
       "  </tbody>\n",
       "</table>\n",
       "</div>"
      ],
      "text/plain": [
       "   Unnamed: 0         drugName                     condition  \\\n",
       "0  163740      Mirtazapine      Depression                     \n",
       "1  206473      Mesalamine       Crohn's Disease, Maintenance   \n",
       "2  159672      Bactrim          Urinary Tract Infection        \n",
       "3  39293       Contrave         Weight Loss                    \n",
       "4  97768       Cyclafem 1 / 35  Birth Control                  \n",
       "\n",
       "                                                                                                                                                                                                                                                                                                                                                                                                                                                                                                                                                                                                                                                                                                                                                                                                           review  \\\n",
       "0  \"I&#039;ve tried a few antidepressants over the years (citalopram, fluoxetine, amitriptyline), but none of those helped with my depression, insomnia &amp; anxiety. My doctor suggested and changed me onto 45mg mirtazapine and this medicine has saved my life. Thankfully I have had no side effects especially the most common - weight gain, I&#039;ve actually lost alot of weight. I still have suicidal thoughts but mirtazapine has saved me.\"                                                                                                                                                                                                                                                                                                                                                          \n",
       "1  \"My son has Crohn&#039;s disease and has done very well on the Asacol.  He has no complaints and shows no side effects.  He has taken as many as nine tablets per day at one time.  I&#039;ve been very happy with the results, reducing his bouts of diarrhea drastically.\"                                                                                                                                                                                                                                                                                                                                                                                                                                                                                                                                     \n",
       "2  \"Quick reduction of symptoms\"                                                                                                                                                                                                                                                                                                                                                                                                                                                                                                                                                                                                                                                                                                                                                                                    \n",
       "3  \"Contrave combines drugs that were used for alcohol, smoking, and opioid cessation. People lose weight on it because it also helps control over-eating. I have no doubt that most obesity is caused from sugar/carb addiction, which is just as powerful as any drug. I have been taking it for five days, and the good news is, it seems to go to work immediately. I feel hungry before I want food now. I really don&#039;t care to eat; it&#039;s just to fill my stomach. Since I have only been on it a few days, I don&#039;t know if I&#039;ve lost weight (I don&#039;t have a scale), but my clothes do feel a little looser, so maybe a pound or two. I&#039;m hoping that after a few months on this medication, I will develop healthier habits that I can continue without the aid of Contrave.\"   \n",
       "4  \"I have been on this birth control for one cycle. After reading some of the reviews on this type and similar birth controls I was a bit apprehensive to start. Im giving this birth control a 9 out of 10 as I have not been on it long enough for a 10. So far I love this birth control! My side effects have been so minimal its like Im not even on birth control! I have experienced mild headaches here and there and some nausea but other than that ive been feeling great! I got my period on cue on the third day of the inactive pills and I had no idea it was coming because I had zero pms! My period was very light and I barely had any cramping! I had unprotected sex the first month and obviously didn&#039;t get pregnant so I&#039;m very pleased! Highly recommend\"                       \n",
       "\n",
       "   rating                date  usefulCount  \n",
       "0  10.0    February 28, 2012   22           \n",
       "1  8.0     May 17, 2009        17           \n",
       "2  9.0     September 29, 2017  3            \n",
       "3  9.0     March 5, 2017       35           \n",
       "4  9.0     October 22, 2015    4            "
      ]
     },
     "execution_count": 6,
     "metadata": {},
     "output_type": "execute_result"
    }
   ],
   "source": [
    "df_test.head()"
   ]
  },
  {
   "cell_type": "code",
   "execution_count": 7,
   "metadata": {},
   "outputs": [],
   "source": [
    "df_train.rename(columns={'Unnamed: 0': 'uniqueid'}, inplace=True)\n",
    "df_test.rename(columns={'Unnamed: 0': 'uniqueid'}, inplace=True)"
   ]
  },
  {
   "cell_type": "code",
   "execution_count": 8,
   "metadata": {},
   "outputs": [
    {
     "name": "stdout",
     "output_type": "stream",
     "text": [
      "<class 'pandas.core.frame.DataFrame'>\n",
      "RangeIndex: 161297 entries, 0 to 161296\n",
      "Data columns (total 7 columns):\n",
      " #   Column       Non-Null Count   Dtype  \n",
      "---  ------       --------------   -----  \n",
      " 0   uniqueid     161297 non-null  int64  \n",
      " 1   drugName     161297 non-null  object \n",
      " 2   condition    160398 non-null  object \n",
      " 3   review       161297 non-null  object \n",
      " 4   rating       161297 non-null  float64\n",
      " 5   date         161297 non-null  object \n",
      " 6   usefulCount  161297 non-null  int64  \n",
      "dtypes: float64(1), int64(2), object(4)\n",
      "memory usage: 8.6+ MB\n"
     ]
    }
   ],
   "source": [
    "df_train.info()"
   ]
  },
  {
   "cell_type": "markdown",
   "metadata": {},
   "source": [
    "### Comment\n",
    "\n",
    "There are 161297 entries in training set, there seem to have some null values in condition feature. "
   ]
  },
  {
   "cell_type": "code",
   "execution_count": 9,
   "metadata": {},
   "outputs": [
    {
     "name": "stdout",
     "output_type": "stream",
     "text": [
      "<class 'pandas.core.frame.DataFrame'>\n",
      "RangeIndex: 53766 entries, 0 to 53765\n",
      "Data columns (total 7 columns):\n",
      " #   Column       Non-Null Count  Dtype  \n",
      "---  ------       --------------  -----  \n",
      " 0   uniqueid     53766 non-null  int64  \n",
      " 1   drugName     53766 non-null  object \n",
      " 2   condition    53471 non-null  object \n",
      " 3   review       53766 non-null  object \n",
      " 4   rating       53766 non-null  float64\n",
      " 5   date         53766 non-null  object \n",
      " 6   usefulCount  53766 non-null  int64  \n",
      "dtypes: float64(1), int64(2), object(4)\n",
      "memory usage: 2.9+ MB\n"
     ]
    }
   ],
   "source": [
    "df_test.info()"
   ]
  },
  {
   "cell_type": "markdown",
   "metadata": {},
   "source": [
    "### Comment\n",
    "There are 53765 entries in testing set, there seem to have some null values in condition feature. "
   ]
  },
  {
   "cell_type": "code",
   "execution_count": 10,
   "metadata": {},
   "outputs": [
    {
     "data": {
      "text/html": [
       "<div>\n",
       "<style scoped>\n",
       "    .dataframe tbody tr th:only-of-type {\n",
       "        vertical-align: middle;\n",
       "    }\n",
       "\n",
       "    .dataframe tbody tr th {\n",
       "        vertical-align: top;\n",
       "    }\n",
       "\n",
       "    .dataframe thead th {\n",
       "        text-align: right;\n",
       "    }\n",
       "</style>\n",
       "<table border=\"1\" class=\"dataframe\">\n",
       "  <thead>\n",
       "    <tr style=\"text-align: right;\">\n",
       "      <th></th>\n",
       "      <th>uniqueid</th>\n",
       "      <th>rating</th>\n",
       "      <th>usefulCount</th>\n",
       "    </tr>\n",
       "  </thead>\n",
       "  <tbody>\n",
       "    <tr>\n",
       "      <th>count</th>\n",
       "      <td>161297.000000</td>\n",
       "      <td>161297.000000</td>\n",
       "      <td>161297.000000</td>\n",
       "    </tr>\n",
       "    <tr>\n",
       "      <th>mean</th>\n",
       "      <td>115923.585305</td>\n",
       "      <td>6.994377</td>\n",
       "      <td>28.004755</td>\n",
       "    </tr>\n",
       "    <tr>\n",
       "      <th>std</th>\n",
       "      <td>67004.445170</td>\n",
       "      <td>3.272329</td>\n",
       "      <td>36.403742</td>\n",
       "    </tr>\n",
       "    <tr>\n",
       "      <th>min</th>\n",
       "      <td>2.000000</td>\n",
       "      <td>1.000000</td>\n",
       "      <td>0.000000</td>\n",
       "    </tr>\n",
       "    <tr>\n",
       "      <th>25%</th>\n",
       "      <td>58063.000000</td>\n",
       "      <td>5.000000</td>\n",
       "      <td>6.000000</td>\n",
       "    </tr>\n",
       "    <tr>\n",
       "      <th>50%</th>\n",
       "      <td>115744.000000</td>\n",
       "      <td>8.000000</td>\n",
       "      <td>16.000000</td>\n",
       "    </tr>\n",
       "    <tr>\n",
       "      <th>75%</th>\n",
       "      <td>173776.000000</td>\n",
       "      <td>10.000000</td>\n",
       "      <td>36.000000</td>\n",
       "    </tr>\n",
       "    <tr>\n",
       "      <th>max</th>\n",
       "      <td>232291.000000</td>\n",
       "      <td>10.000000</td>\n",
       "      <td>1291.000000</td>\n",
       "    </tr>\n",
       "  </tbody>\n",
       "</table>\n",
       "</div>"
      ],
      "text/plain": [
       "            uniqueid         rating    usefulCount\n",
       "count  161297.000000  161297.000000  161297.000000\n",
       "mean   115923.585305  6.994377       28.004755    \n",
       "std    67004.445170   3.272329       36.403742    \n",
       "min    2.000000       1.000000       0.000000     \n",
       "25%    58063.000000   5.000000       6.000000     \n",
       "50%    115744.000000  8.000000       16.000000    \n",
       "75%    173776.000000  10.000000      36.000000    \n",
       "max    232291.000000  10.000000      1291.000000  "
      ]
     },
     "execution_count": 10,
     "metadata": {},
     "output_type": "execute_result"
    }
   ],
   "source": [
    "df_train.describe()"
   ]
  },
  {
   "cell_type": "markdown",
   "metadata": {},
   "source": [
    "### Comment\n",
    "The mean rating is 6.77 which is rather high (highest rating is 10, lowest rating is 1). Standard deviation of rating is 3.27 meaning the data points are close together, not widely spread out. As for useful count, the mean is 28 and standard deviation is 36.4. It has a high standard deviation, meaning the data points are widely spread out. The minimum useful count is 0, maximum is 1291."
   ]
  },
  {
   "cell_type": "code",
   "execution_count": 11,
   "metadata": {},
   "outputs": [
    {
     "data": {
      "text/html": [
       "<div>\n",
       "<style scoped>\n",
       "    .dataframe tbody tr th:only-of-type {\n",
       "        vertical-align: middle;\n",
       "    }\n",
       "\n",
       "    .dataframe tbody tr th {\n",
       "        vertical-align: top;\n",
       "    }\n",
       "\n",
       "    .dataframe thead th {\n",
       "        text-align: right;\n",
       "    }\n",
       "</style>\n",
       "<table border=\"1\" class=\"dataframe\">\n",
       "  <thead>\n",
       "    <tr style=\"text-align: right;\">\n",
       "      <th></th>\n",
       "      <th>uniqueid</th>\n",
       "      <th>rating</th>\n",
       "      <th>usefulCount</th>\n",
       "    </tr>\n",
       "  </thead>\n",
       "  <tbody>\n",
       "    <tr>\n",
       "      <th>count</th>\n",
       "      <td>53766.000000</td>\n",
       "      <td>53766.000000</td>\n",
       "      <td>53766.000000</td>\n",
       "    </tr>\n",
       "    <tr>\n",
       "      <th>mean</th>\n",
       "      <td>116386.701187</td>\n",
       "      <td>6.976900</td>\n",
       "      <td>27.989752</td>\n",
       "    </tr>\n",
       "    <tr>\n",
       "      <th>std</th>\n",
       "      <td>67017.739881</td>\n",
       "      <td>3.285207</td>\n",
       "      <td>36.172833</td>\n",
       "    </tr>\n",
       "    <tr>\n",
       "      <th>min</th>\n",
       "      <td>0.000000</td>\n",
       "      <td>1.000000</td>\n",
       "      <td>0.000000</td>\n",
       "    </tr>\n",
       "    <tr>\n",
       "      <th>25%</th>\n",
       "      <td>58272.500000</td>\n",
       "      <td>4.000000</td>\n",
       "      <td>6.000000</td>\n",
       "    </tr>\n",
       "    <tr>\n",
       "      <th>50%</th>\n",
       "      <td>116248.500000</td>\n",
       "      <td>8.000000</td>\n",
       "      <td>16.000000</td>\n",
       "    </tr>\n",
       "    <tr>\n",
       "      <th>75%</th>\n",
       "      <td>174586.750000</td>\n",
       "      <td>10.000000</td>\n",
       "      <td>36.000000</td>\n",
       "    </tr>\n",
       "    <tr>\n",
       "      <th>max</th>\n",
       "      <td>232284.000000</td>\n",
       "      <td>10.000000</td>\n",
       "      <td>949.000000</td>\n",
       "    </tr>\n",
       "  </tbody>\n",
       "</table>\n",
       "</div>"
      ],
      "text/plain": [
       "            uniqueid        rating   usefulCount\n",
       "count  53766.000000   53766.000000  53766.000000\n",
       "mean   116386.701187  6.976900      27.989752   \n",
       "std    67017.739881   3.285207      36.172833   \n",
       "min    0.000000       1.000000      0.000000    \n",
       "25%    58272.500000   4.000000      6.000000    \n",
       "50%    116248.500000  8.000000      16.000000   \n",
       "75%    174586.750000  10.000000     36.000000   \n",
       "max    232284.000000  10.000000     949.000000  "
      ]
     },
     "execution_count": 11,
     "metadata": {},
     "output_type": "execute_result"
    }
   ],
   "source": [
    "df_test.describe()"
   ]
  },
  {
   "cell_type": "code",
   "execution_count": 12,
   "metadata": {},
   "outputs": [
    {
     "data": {
      "text/plain": [
       "uniqueid       0  \n",
       "drugName       0  \n",
       "condition      899\n",
       "review         0  \n",
       "rating         0  \n",
       "date           0  \n",
       "usefulCount    0  \n",
       "dtype: int64"
      ]
     },
     "execution_count": 12,
     "metadata": {},
     "output_type": "execute_result"
    }
   ],
   "source": [
    "df_train.isnull().sum()"
   ]
  },
  {
   "cell_type": "code",
   "execution_count": 13,
   "metadata": {},
   "outputs": [
    {
     "data": {
      "text/plain": [
       "0.005573569254232875"
      ]
     },
     "execution_count": 13,
     "metadata": {},
     "output_type": "execute_result"
    }
   ],
   "source": [
    "# Less than 1% of data is null, I will drop na\n",
    "(df_train['condition'].isnull().sum())/len(df_train)"
   ]
  },
  {
   "cell_type": "code",
   "execution_count": 14,
   "metadata": {},
   "outputs": [
    {
     "data": {
      "text/plain": [
       "uniqueid       0  \n",
       "drugName       0  \n",
       "condition      295\n",
       "review         0  \n",
       "rating         0  \n",
       "date           0  \n",
       "usefulCount    0  \n",
       "dtype: int64"
      ]
     },
     "execution_count": 14,
     "metadata": {},
     "output_type": "execute_result"
    }
   ],
   "source": [
    "df_test.isnull().sum()"
   ]
  },
  {
   "cell_type": "code",
   "execution_count": 15,
   "metadata": {},
   "outputs": [
    {
     "data": {
      "text/plain": [
       "0.0054867388312316336"
      ]
     },
     "execution_count": 15,
     "metadata": {},
     "output_type": "execute_result"
    }
   ],
   "source": [
    "# Less than 1% of data is null, I will drop na\n",
    "(df_test['condition'].isnull().sum())/len(df_test)"
   ]
  },
  {
   "cell_type": "markdown",
   "metadata": {},
   "source": [
    "### Comment\n",
    "There are some null values in condition. Needs to be cleaned later. "
   ]
  },
  {
   "cell_type": "code",
   "execution_count": 16,
   "metadata": {},
   "outputs": [
    {
     "data": {
      "text/plain": [
       "218"
      ]
     },
     "execution_count": 16,
     "metadata": {},
     "output_type": "execute_result"
    }
   ],
   "source": [
    "len(df_train['condition'].value_counts().unique())"
   ]
  },
  {
   "cell_type": "code",
   "execution_count": 17,
   "metadata": {},
   "outputs": [
    {
     "data": {
      "text/plain": [
       "322"
      ]
     },
     "execution_count": 17,
     "metadata": {},
     "output_type": "execute_result"
    }
   ],
   "source": [
    "len(df_train['drugName'].value_counts().unique())"
   ]
  },
  {
   "cell_type": "markdown",
   "metadata": {},
   "source": [
    "### Comment\n",
    "There are 218 unique conditions and 322 unique drug name. "
   ]
  },
  {
   "cell_type": "code",
   "execution_count": 18,
   "metadata": {},
   "outputs": [
    {
     "data": {
      "text/plain": [
       "Levonorgestrel                        3657\n",
       "Etonogestrel                          3336\n",
       "Ethinyl estradiol / norethindrone     2850\n",
       "Nexplanon                             2156\n",
       "Ethinyl estradiol / norgestimate      2117\n",
       "Ethinyl estradiol / levonorgestrel    1888\n",
       "Phentermine                           1543\n",
       "Sertraline                            1360\n",
       "Escitalopram                          1292\n",
       "Mirena                                1242\n",
       "Name: drugName, dtype: int64"
      ]
     },
     "execution_count": 18,
     "metadata": {},
     "output_type": "execute_result"
    }
   ],
   "source": [
    "df_train['drugName'].value_counts().head(10)"
   ]
  },
  {
   "cell_type": "markdown",
   "metadata": {},
   "source": [
    "### Comment\n",
    "- The top three drugs are Levonrgestrel, Etonogestrel and Ethinyl Estradiol / Norethindrone"
   ]
  },
  {
   "cell_type": "code",
   "execution_count": 19,
   "metadata": {},
   "outputs": [
    {
     "data": {
      "text/plain": [
       "Birth Control      28788\n",
       "Depression         9069 \n",
       "Pain               6145 \n",
       "Anxiety            5904 \n",
       "Acne               5588 \n",
       "Bipolar Disorde    4224 \n",
       "Insomnia           3673 \n",
       "Weight Loss        3609 \n",
       "Obesity            3568 \n",
       "ADHD               3383 \n",
       "Name: condition, dtype: int64"
      ]
     },
     "execution_count": 19,
     "metadata": {},
     "output_type": "execute_result"
    }
   ],
   "source": [
    "df_train['condition'].value_counts().head(10)"
   ]
  },
  {
   "cell_type": "markdown",
   "metadata": {},
   "source": [
    "### Comment\n",
    "- The top 3 conditions are Birth Control, Depression and Pain. "
   ]
  },
  {
   "cell_type": "code",
   "execution_count": 20,
   "metadata": {},
   "outputs": [
    {
     "data": {
      "text/plain": [
       "33552     1291\n",
       "6716      1291\n",
       "4249      1247\n",
       "21708     1247\n",
       "146145    949 \n",
       "58608     796 \n",
       "16889     796 \n",
       "152838    771 \n",
       "2039      771 \n",
       "5218      730 \n",
       "Name: usefulCount, dtype: int64"
      ]
     },
     "execution_count": 20,
     "metadata": {},
     "output_type": "execute_result"
    }
   ],
   "source": [
    "df_train['usefulCount'].sort_values(ascending=False).head(10)"
   ]
  },
  {
   "cell_type": "markdown",
   "metadata": {},
   "source": [
    "### Comment\n",
    "The most useful review has 1291 useful count. "
   ]
  },
  {
   "cell_type": "code",
   "execution_count": 21,
   "metadata": {},
   "outputs": [
    {
     "data": {
      "text/html": [
       "<div>\n",
       "<style scoped>\n",
       "    .dataframe tbody tr th:only-of-type {\n",
       "        vertical-align: middle;\n",
       "    }\n",
       "\n",
       "    .dataframe tbody tr th {\n",
       "        vertical-align: top;\n",
       "    }\n",
       "\n",
       "    .dataframe thead th {\n",
       "        text-align: right;\n",
       "    }\n",
       "</style>\n",
       "<table border=\"1\" class=\"dataframe\">\n",
       "  <thead>\n",
       "    <tr style=\"text-align: right;\">\n",
       "      <th></th>\n",
       "      <th>uniqueid</th>\n",
       "      <th>drugName</th>\n",
       "      <th>condition</th>\n",
       "      <th>review</th>\n",
       "      <th>rating</th>\n",
       "      <th>date</th>\n",
       "      <th>usefulCount</th>\n",
       "    </tr>\n",
       "  </thead>\n",
       "  <tbody>\n",
       "    <tr>\n",
       "      <th>6716</th>\n",
       "      <td>96616</td>\n",
       "      <td>Sertraline</td>\n",
       "      <td>Depression</td>\n",
       "      <td>\"I remember reading people&amp;#039;s opinions, online, of the drug before I took it and it scared me away from it. Then I finally decided to give it a try and it has been the best choice I have made. I have been on it for over 4 months and I feel great. I&amp;#039;m on 100mg and I don&amp;#039;t have any side effects. When I first started I did notice that my hands would tremble but then it subsided. So honestly, don&amp;#039;t listen to all the negativity because what doesn&amp;#039;t work for some works amazing for others. So go based on youself and not everyone else. It may be a blessing in diguise. The pill is not meant to make you be all happy go lucky and see &amp;quot;butterflies and roses&amp;quot;, its meant to help put the chemicals in your mind in balance so you can just be who you are and not overly depressed. I still get sad some times, but that is normal, that is life, and it&amp;#039;s up to people to take control to make a change. I did so by getting on this pill.\"</td>\n",
       "      <td>10.0</td>\n",
       "      <td>July 31, 2008</td>\n",
       "      <td>1291</td>\n",
       "    </tr>\n",
       "    <tr>\n",
       "      <th>33552</th>\n",
       "      <td>119152</td>\n",
       "      <td>Zoloft</td>\n",
       "      <td>Depression</td>\n",
       "      <td>\"I remember reading people&amp;#039;s opinions, online, of the drug before I took it and it scared me away from it. Then I finally decided to give it a try and it has been the best choice I have made. I have been on it for over 4 months and I feel great. I&amp;#039;m on 100mg and I don&amp;#039;t have any side effects. When I first started I did notice that my hands would tremble but then it subsided. So honestly, don&amp;#039;t listen to all the negativity because what doesn&amp;#039;t work for some works amazing for others. So go based on youself and not everyone else. It may be a blessing in diguise. The pill is not meant to make you be all happy go lucky and see &amp;quot;butterflies and roses&amp;quot;, its meant to help put the chemicals in your mind in balance so you can just be who you are and not overly depressed. I still get sad some times, but that is normal, that is life, and it&amp;#039;s up to people to take control to make a change. I did so by getting on this pill.\"</td>\n",
       "      <td>10.0</td>\n",
       "      <td>July 31, 2008</td>\n",
       "      <td>1291</td>\n",
       "    </tr>\n",
       "    <tr>\n",
       "      <th>4249</th>\n",
       "      <td>182560</td>\n",
       "      <td>Mirena</td>\n",
       "      <td>Birth Control</td>\n",
       "      <td>\"I have had my IUD for over a year now and I think it&amp;#039;s the best thing ever. When I first got it put in I only bled for about a week with a little cramping. After that nothing at all. I haven&amp;#039;t had a period for about 8months until I finally got one, and its not bad at all. It&amp;#039;s light, no cramping, no headache, nothing. I haven&amp;#039;t gained weight, my acne is gone, and my moods are fine. I know all women are different, but I just hear all these horror stories and I just wanted to tell my story, which is a good one. Hope it calms some of your fears.\"</td>\n",
       "      <td>10.0</td>\n",
       "      <td>April 1, 2009</td>\n",
       "      <td>1247</td>\n",
       "    </tr>\n",
       "    <tr>\n",
       "      <th>21708</th>\n",
       "      <td>131116</td>\n",
       "      <td>Levonorgestrel</td>\n",
       "      <td>Birth Control</td>\n",
       "      <td>\"I have had my IUD for over a year now and I think it&amp;#039;s the best thing ever. When I first got it put in I only bled for about a week with a little cramping. After that nothing at all. I haven&amp;#039;t had a period for about 8months until I finally got one, and its not bad at all. It&amp;#039;s light, no cramping, no headache, nothing. I haven&amp;#039;t gained weight, my acne is gone, and my moods are fine. I know all women are different, but I just hear all these horror stories and I just wanted to tell my story, which is a good one. Hope it calms some of your fears.\"</td>\n",
       "      <td>10.0</td>\n",
       "      <td>April 1, 2009</td>\n",
       "      <td>1247</td>\n",
       "    </tr>\n",
       "    <tr>\n",
       "      <th>146145</th>\n",
       "      <td>119151</td>\n",
       "      <td>Zoloft</td>\n",
       "      <td>Depression</td>\n",
       "      <td>\"I&amp;#039;ve been on Zoloft 50mg for over two years. I am a more relaxed and easy-going person because of Zoloft.  Prior to starting the medicine, I was anxious all the time, worried constantly about everything, and suffered periods of depression and hopelessness.  Now I am a better wife, friend, and person in general.\"</td>\n",
       "      <td>9.0</td>\n",
       "      <td>August 5, 2008</td>\n",
       "      <td>949</td>\n",
       "    </tr>\n",
       "    <tr>\n",
       "      <th>58608</th>\n",
       "      <td>139141</td>\n",
       "      <td>Phentermine</td>\n",
       "      <td>Weight Loss</td>\n",
       "      <td>\"I have used this pill off and on for the past 9 years. I have to say it&amp;#039;s the BEST pill for losing weight and the ONLY thing that has ever worked for me. I gain at least 60-70 pounds with each pregnancy, so each time I have a child, I have a MASSIVE amount of weight to lose, and each time I take the pill, I go right back down to my size 4 within 4-5 months ( no exercise). My tips, after taking it so long are the following: ALWAYS take way before breakfast--take the first thing in the morning, and if you really want to get results, don&amp;#039;t eat any carbs for breakfast. NEVER go from taking one a day to stopping, because you WILL gain it back. You must wean yourself off SLOWLY and you&amp;#039;ll be fine. \"</td>\n",
       "      <td>10.0</td>\n",
       "      <td>October 19, 2008</td>\n",
       "      <td>796</td>\n",
       "    </tr>\n",
       "    <tr>\n",
       "      <th>16889</th>\n",
       "      <td>52305</td>\n",
       "      <td>Adipex-P</td>\n",
       "      <td>Weight Loss</td>\n",
       "      <td>\"I have used this pill off and on for the past 9 years. I have to say it&amp;#039;s the BEST pill for losing weight and the ONLY thing that has ever worked for me. I gain at least 60-70 pounds with each pregnancy, so each time I have a child, I have a MASSIVE amount of weight to lose, and each time I take the pill, I go right back down to my size 4 within 4-5 months ( no exercise). My tips, after taking it so long are the following: ALWAYS take way before breakfast--take the first thing in the morning, and if you really want to get results, don&amp;#039;t eat any carbs for breakfast. NEVER go from taking one a day to stopping, because you WILL gain it back. You must wean yourself off SLOWLY and you&amp;#039;ll be fine. \"</td>\n",
       "      <td>10.0</td>\n",
       "      <td>October 19, 2008</td>\n",
       "      <td>796</td>\n",
       "    </tr>\n",
       "    <tr>\n",
       "      <th>152838</th>\n",
       "      <td>89825</td>\n",
       "      <td>Celexa</td>\n",
       "      <td>Depression</td>\n",
       "      <td>\"I responded after one week. The side effects (lethargy, some bowel problems) are the only reason i didnt rate this medicine a 10. After 44 years of excessive anxiety and depression I finally feel like I can be &amp;quot;myself&amp;quot; instead enslaved to unreasonable thoughts and frustrations. Ironically, I avoided these types of meds for years, instead &amp;quot;self medicating&amp;quot; with alcohol and cynicism. Had I switched to this years ago maybe I would still be married to a wonderful woman. Sad, but true.\"</td>\n",
       "      <td>8.0</td>\n",
       "      <td>March 25, 2008</td>\n",
       "      <td>771</td>\n",
       "    </tr>\n",
       "    <tr>\n",
       "      <th>2039</th>\n",
       "      <td>62757</td>\n",
       "      <td>Citalopram</td>\n",
       "      <td>Depression</td>\n",
       "      <td>\"I responded after one week. The side effects (lethargy, some bowel problems) are the only reason i didnt rate this medicine a 10. After 44 years of excessive anxiety and depression I finally feel like I can be &amp;quot;myself&amp;quot; instead enslaved to unreasonable thoughts and frustrations. Ironically, I avoided these types of meds for years, instead &amp;quot;self medicating&amp;quot; with alcohol and cynicism. Had I switched to this years ago maybe I would still be married to a wonderful woman. Sad, but true.\"</td>\n",
       "      <td>8.0</td>\n",
       "      <td>March 25, 2008</td>\n",
       "      <td>771</td>\n",
       "    </tr>\n",
       "    <tr>\n",
       "      <th>5218</th>\n",
       "      <td>107655</td>\n",
       "      <td>Implanon</td>\n",
       "      <td>Birth Control</td>\n",
       "      <td>\"I was very nervous about trying Implanon after reading all the negative reviews, but went ahead with it anyway.  The procedure was quick and practically painless.  The spot was tender for a few days and I did have an ugly bruise and now a tiny scar, but nothing that is too terrible.\\r\\nI started Implanon while I was on my period, which lasted for about 21/2 weeks, give or take.  But the bleeding was minimal and it wasn&amp;#039;t too bad.  Then after that period ended, nothing.  I haven&amp;#039;t had a period since I had the device inserted in December of 09.  I haven&amp;#039;t noticed any weight gain or unusual moodiness. This has been the best birth control I&amp;#039;ve ever been on.  My advice, give it a chance.  Don&amp;#039;t let the negative reviews scare you away!\"</td>\n",
       "      <td>10.0</td>\n",
       "      <td>July 19, 2010</td>\n",
       "      <td>730</td>\n",
       "    </tr>\n",
       "  </tbody>\n",
       "</table>\n",
       "</div>"
      ],
      "text/plain": [
       "        uniqueid        drugName      condition  \\\n",
       "6716    96616     Sertraline      Depression      \n",
       "33552   119152    Zoloft          Depression      \n",
       "4249    182560    Mirena          Birth Control   \n",
       "21708   131116    Levonorgestrel  Birth Control   \n",
       "146145  119151    Zoloft          Depression      \n",
       "58608   139141    Phentermine     Weight Loss     \n",
       "16889   52305     Adipex-P        Weight Loss     \n",
       "152838  89825     Celexa          Depression      \n",
       "2039    62757     Citalopram      Depression      \n",
       "5218    107655    Implanon        Birth Control   \n",
       "\n",
       "                                                                                                                                                                                                                                                                                                                                                                                                                                                                                                                                                                                                                                                                                                                                                                                                                                                                                                                                                                                                      review  \\\n",
       "6716    \"I remember reading people&#039;s opinions, online, of the drug before I took it and it scared me away from it. Then I finally decided to give it a try and it has been the best choice I have made. I have been on it for over 4 months and I feel great. I&#039;m on 100mg and I don&#039;t have any side effects. When I first started I did notice that my hands would tremble but then it subsided. So honestly, don&#039;t listen to all the negativity because what doesn&#039;t work for some works amazing for others. So go based on youself and not everyone else. It may be a blessing in diguise. The pill is not meant to make you be all happy go lucky and see &quot;butterflies and roses&quot;, its meant to help put the chemicals in your mind in balance so you can just be who you are and not overly depressed. I still get sad some times, but that is normal, that is life, and it&#039;s up to people to take control to make a change. I did so by getting on this pill.\"   \n",
       "33552   \"I remember reading people&#039;s opinions, online, of the drug before I took it and it scared me away from it. Then I finally decided to give it a try and it has been the best choice I have made. I have been on it for over 4 months and I feel great. I&#039;m on 100mg and I don&#039;t have any side effects. When I first started I did notice that my hands would tremble but then it subsided. So honestly, don&#039;t listen to all the negativity because what doesn&#039;t work for some works amazing for others. So go based on youself and not everyone else. It may be a blessing in diguise. The pill is not meant to make you be all happy go lucky and see &quot;butterflies and roses&quot;, its meant to help put the chemicals in your mind in balance so you can just be who you are and not overly depressed. I still get sad some times, but that is normal, that is life, and it&#039;s up to people to take control to make a change. I did so by getting on this pill.\"   \n",
       "4249    \"I have had my IUD for over a year now and I think it&#039;s the best thing ever. When I first got it put in I only bled for about a week with a little cramping. After that nothing at all. I haven&#039;t had a period for about 8months until I finally got one, and its not bad at all. It&#039;s light, no cramping, no headache, nothing. I haven&#039;t gained weight, my acne is gone, and my moods are fine. I know all women are different, but I just hear all these horror stories and I just wanted to tell my story, which is a good one. Hope it calms some of your fears.\"                                                                                                                                                                                                                                                                                                                                                                                                             \n",
       "21708   \"I have had my IUD for over a year now and I think it&#039;s the best thing ever. When I first got it put in I only bled for about a week with a little cramping. After that nothing at all. I haven&#039;t had a period for about 8months until I finally got one, and its not bad at all. It&#039;s light, no cramping, no headache, nothing. I haven&#039;t gained weight, my acne is gone, and my moods are fine. I know all women are different, but I just hear all these horror stories and I just wanted to tell my story, which is a good one. Hope it calms some of your fears.\"                                                                                                                                                                                                                                                                                                                                                                                                             \n",
       "146145  \"I&#039;ve been on Zoloft 50mg for over two years. I am a more relaxed and easy-going person because of Zoloft.  Prior to starting the medicine, I was anxious all the time, worried constantly about everything, and suffered periods of depression and hopelessness.  Now I am a better wife, friend, and person in general.\"                                                                                                                                                                                                                                                                                                                                                                                                                                                                                                                                                                                                                                                                        \n",
       "58608   \"I have used this pill off and on for the past 9 years. I have to say it&#039;s the BEST pill for losing weight and the ONLY thing that has ever worked for me. I gain at least 60-70 pounds with each pregnancy, so each time I have a child, I have a MASSIVE amount of weight to lose, and each time I take the pill, I go right back down to my size 4 within 4-5 months ( no exercise). My tips, after taking it so long are the following: ALWAYS take way before breakfast--take the first thing in the morning, and if you really want to get results, don&#039;t eat any carbs for breakfast. NEVER go from taking one a day to stopping, because you WILL gain it back. You must wean yourself off SLOWLY and you&#039;ll be fine. \"                                                                                                                                                                                                                                                         \n",
       "16889   \"I have used this pill off and on for the past 9 years. I have to say it&#039;s the BEST pill for losing weight and the ONLY thing that has ever worked for me. I gain at least 60-70 pounds with each pregnancy, so each time I have a child, I have a MASSIVE amount of weight to lose, and each time I take the pill, I go right back down to my size 4 within 4-5 months ( no exercise). My tips, after taking it so long are the following: ALWAYS take way before breakfast--take the first thing in the morning, and if you really want to get results, don&#039;t eat any carbs for breakfast. NEVER go from taking one a day to stopping, because you WILL gain it back. You must wean yourself off SLOWLY and you&#039;ll be fine. \"                                                                                                                                                                                                                                                         \n",
       "152838  \"I responded after one week. The side effects (lethargy, some bowel problems) are the only reason i didnt rate this medicine a 10. After 44 years of excessive anxiety and depression I finally feel like I can be &quot;myself&quot; instead enslaved to unreasonable thoughts and frustrations. Ironically, I avoided these types of meds for years, instead &quot;self medicating&quot; with alcohol and cynicism. Had I switched to this years ago maybe I would still be married to a wonderful woman. Sad, but true.\"                                                                                                                                                                                                                                                                                                                                                                                                                                                                            \n",
       "2039    \"I responded after one week. The side effects (lethargy, some bowel problems) are the only reason i didnt rate this medicine a 10. After 44 years of excessive anxiety and depression I finally feel like I can be &quot;myself&quot; instead enslaved to unreasonable thoughts and frustrations. Ironically, I avoided these types of meds for years, instead &quot;self medicating&quot; with alcohol and cynicism. Had I switched to this years ago maybe I would still be married to a wonderful woman. Sad, but true.\"                                                                                                                                                                                                                                                                                                                                                                                                                                                                            \n",
       "5218    \"I was very nervous about trying Implanon after reading all the negative reviews, but went ahead with it anyway.  The procedure was quick and practically painless.  The spot was tender for a few days and I did have an ugly bruise and now a tiny scar, but nothing that is too terrible.\\r\\nI started Implanon while I was on my period, which lasted for about 21/2 weeks, give or take.  But the bleeding was minimal and it wasn&#039;t too bad.  Then after that period ended, nothing.  I haven&#039;t had a period since I had the device inserted in December of 09.  I haven&#039;t noticed any weight gain or unusual moodiness. This has been the best birth control I&#039;ve ever been on.  My advice, give it a chance.  Don&#039;t let the negative reviews scare you away!\"                                                                                                                                                                                                         \n",
       "\n",
       "        rating              date  usefulCount  \n",
       "6716    10.0    July 31, 2008     1291         \n",
       "33552   10.0    July 31, 2008     1291         \n",
       "4249    10.0    April 1, 2009     1247         \n",
       "21708   10.0    April 1, 2009     1247         \n",
       "146145  9.0     August 5, 2008    949          \n",
       "58608   10.0    October 19, 2008  796          \n",
       "16889   10.0    October 19, 2008  796          \n",
       "152838  8.0     March 25, 2008    771          \n",
       "2039    8.0     March 25, 2008    771          \n",
       "5218    10.0    July 19, 2010     730          "
      ]
     },
     "execution_count": 21,
     "metadata": {},
     "output_type": "execute_result"
    }
   ],
   "source": [
    "# Top 10 comments\n",
    "df_train.iloc[[6716,33552,4249,21708,146145,58608,16889,152838,2039,5218]]"
   ]
  },
  {
   "cell_type": "markdown",
   "metadata": {},
   "source": [
    "### Comment\n",
    "\n",
    "- Most of the top reviews come from conditions such as Depression, Weight Loss and Birth Control. \n",
    "- The top reveiws are mostly positive comments, it talks about the effectiveness of the drug, maybe some side effects and some motivation. "
   ]
  },
  {
   "cell_type": "code",
   "execution_count": 22,
   "metadata": {},
   "outputs": [
    {
     "data": {
      "text/plain": [
       "50714     0\n",
       "156716    0\n",
       "50788     0\n",
       "107240    0\n",
       "156719    0\n",
       "156720    0\n",
       "134835    0\n",
       "50779     0\n",
       "156724    0\n",
       "51326     0\n",
       "Name: usefulCount, dtype: int64"
      ]
     },
     "execution_count": 22,
     "metadata": {},
     "output_type": "execute_result"
    }
   ],
   "source": [
    "df_train['usefulCount'].sort_values(ascending=False).tail(10)"
   ]
  },
  {
   "cell_type": "code",
   "execution_count": 23,
   "metadata": {},
   "outputs": [
    {
     "data": {
      "text/html": [
       "<div>\n",
       "<style scoped>\n",
       "    .dataframe tbody tr th:only-of-type {\n",
       "        vertical-align: middle;\n",
       "    }\n",
       "\n",
       "    .dataframe tbody tr th {\n",
       "        vertical-align: top;\n",
       "    }\n",
       "\n",
       "    .dataframe thead th {\n",
       "        text-align: right;\n",
       "    }\n",
       "</style>\n",
       "<table border=\"1\" class=\"dataframe\">\n",
       "  <thead>\n",
       "    <tr style=\"text-align: right;\">\n",
       "      <th></th>\n",
       "      <th>uniqueid</th>\n",
       "      <th>drugName</th>\n",
       "      <th>condition</th>\n",
       "      <th>review</th>\n",
       "      <th>rating</th>\n",
       "      <th>date</th>\n",
       "      <th>usefulCount</th>\n",
       "    </tr>\n",
       "  </thead>\n",
       "  <tbody>\n",
       "    <tr>\n",
       "      <th>50714</th>\n",
       "      <td>668</td>\n",
       "      <td>Medroxyprogesterone</td>\n",
       "      <td>NaN</td>\n",
       "      <td>\"This the only birth control that gets rid of my cramps and makes that time of the month much more pleasant. I&amp;#039;ve been on it for almost a year. The only thing I do experience is being dry every once in a while but that&amp;#039;s an easy fix. I don&amp;#039;t bleed so much and I never have to think twice about a condom. \"</td>\n",
       "      <td>9.0</td>\n",
       "      <td>October 2, 2011</td>\n",
       "      <td>0</td>\n",
       "    </tr>\n",
       "    <tr>\n",
       "      <th>156716</th>\n",
       "      <td>47701</td>\n",
       "      <td>Adapalene</td>\n",
       "      <td>Acne</td>\n",
       "      <td>\"I owe my self-confidence to adapalene! I went off to college in the fall and my skin immediately went completely out of wack. My doctor started out by prescribing me spironolactone to clear my skin, but I did not like the side effects. Her next suggestion was adapalene, and I couldn&amp;#039;t be happier about deciding to start using it. I simultaneously started applying adapalene when I started hormonal birth control, so some of my clear skin could be because of the bc. I experienced about 3 weeks of an initial breakout, but by the 4th and 5th weeks I got to witness my skin get clearer and clearer everyday. It has now been 8 weeks, and all my breakouts are almost completely gone! My skin is dry, but loading it up with moisturizer every night is absolutely worth it.\"</td>\n",
       "      <td>10.0</td>\n",
       "      <td>December 9, 2017</td>\n",
       "      <td>0</td>\n",
       "    </tr>\n",
       "    <tr>\n",
       "      <th>50788</th>\n",
       "      <td>187455</td>\n",
       "      <td>Monistat 3-Day Combination Pack</td>\n",
       "      <td>Vaginal Yeast Infection</td>\n",
       "      <td>\"I have never gotten a YI, but I decided to get the 3 day tx. Today is my third day and the itchiness and burning is still there! It might be worse than the first 2 times. It&amp;#039;s such a horrible, intense burning sensation that starts a couple minutes after insertion. It had me squirming like a worm with my legs clenched together. Not sure if that means it&amp;#039;s working but I sure hope it&amp;#039;s worth the pain.\"</td>\n",
       "      <td>6.0</td>\n",
       "      <td>January 27, 2016</td>\n",
       "      <td>0</td>\n",
       "    </tr>\n",
       "    <tr>\n",
       "      <th>107240</th>\n",
       "      <td>90057</td>\n",
       "      <td>Ambrisentan</td>\n",
       "      <td>Pulmonary Hypertension</td>\n",
       "      <td>\"caused kidney failure and needed dialysis\"</td>\n",
       "      <td>1.0</td>\n",
       "      <td>April 11, 2016</td>\n",
       "      <td>0</td>\n",
       "    </tr>\n",
       "    <tr>\n",
       "      <th>156719</th>\n",
       "      <td>1139</td>\n",
       "      <td>Sumatriptan</td>\n",
       "      <td>Migraine</td>\n",
       "      <td>\"Fabulous medication after getting to the point I was taking 16 200mg ibuprofen (way too many) a day and at least 8 paracetamol and not even getting relief this came as a god send. Worked wonderfully.\"</td>\n",
       "      <td>10.0</td>\n",
       "      <td>June 5, 2017</td>\n",
       "      <td>0</td>\n",
       "    </tr>\n",
       "    <tr>\n",
       "      <th>156720</th>\n",
       "      <td>221133</td>\n",
       "      <td>Drysol</td>\n",
       "      <td>0&lt;/span&gt; users found this comment helpful.</td>\n",
       "      <td>\"I was prescribed drysol because I found a lump in my armpit and my doctor thought it could be a clogged pore. The lump was gone within a week and so was any sweat! It wasn&amp;#039;t painful for me, sometimes a little bit of itchiness but that&amp;#039;s it. I just want to say to anyone who is experiencing pain, make sure you do not apply to freshly shaved armpits! The pharmisist told me this, one time I had shaved but forgot to put the drysol on before so I had to put it on after. I was in a lot of pain and it was very itchy. Otherwise this is a great product! I do sweat a lot on my hands and feet but when I use drysol it will stop for weeks!\"</td>\n",
       "      <td>10.0</td>\n",
       "      <td>October 16, 2016</td>\n",
       "      <td>0</td>\n",
       "    </tr>\n",
       "    <tr>\n",
       "      <th>134835</th>\n",
       "      <td>637</td>\n",
       "      <td>Medroxyprogesterone</td>\n",
       "      <td>Birth Control</td>\n",
       "      <td>\"I have been using this since the birth of my second child 14 and 1/2 years ago. I love it. No periods. No daily medicines to try to remember. I have had a bone density scan and it was normal so worries there either. I think it is great!\"</td>\n",
       "      <td>9.0</td>\n",
       "      <td>July 29, 2009</td>\n",
       "      <td>0</td>\n",
       "    </tr>\n",
       "    <tr>\n",
       "      <th>50779</th>\n",
       "      <td>1174</td>\n",
       "      <td>Sumatriptan</td>\n",
       "      <td>Migraine</td>\n",
       "      <td>\"I&amp;#039;d taken Excedrin for years w/some effectiveness &amp;amp; then had a streak where  headaches would return within a day and sought medical attention.  An urgent care doctor prescribed Bubalbital-APAP-Caffeine and I used it as needed for about a year and was happy with the results, but the prescription was running out.  Because the medication was prescribed by an urgent care doctor the prescription couldn&amp;#039;t be refilled, so I had to see an internal medicine doctor and he prescribed Sumatriptan.  After taking the medicine today it did eventually take away my visual auras and it seems to block the full on migraine, but I feel kind of crummy with sinus drainage and pressure, grogginess and slight nausea.  Going to try w/pain reliever Naproxen.\"</td>\n",
       "      <td>5.0</td>\n",
       "      <td>July 14, 2016</td>\n",
       "      <td>0</td>\n",
       "    </tr>\n",
       "    <tr>\n",
       "      <th>156724</th>\n",
       "      <td>59432</td>\n",
       "      <td>Avelox</td>\n",
       "      <td>Skin and Structure Infection</td>\n",
       "      <td>\"I had a strange skin infection in my earlobe-- it was swollen, red, hot, and incredibly painful. I was first prescribed a different anti-biotic that did not help and in fact made the infection grow in size. After just 24 hours my ear was less swollen and my symptoms have only improved. I am not finished with the prescription yet but it is so great to finally have some relief.\"</td>\n",
       "      <td>8.0</td>\n",
       "      <td>March 22, 2017</td>\n",
       "      <td>0</td>\n",
       "    </tr>\n",
       "    <tr>\n",
       "      <th>51326</th>\n",
       "      <td>9408</td>\n",
       "      <td>Lo Loestrin Fe</td>\n",
       "      <td>Birth Control</td>\n",
       "      <td>\"I hate this birth control! I have terrible mood swings, insanely increased appetite, and I&amp;#039;ve gained 10 lbs.  My skin has also broken out like crazy. Tried to let my body get used to it for a few months but the symptoms have only gotten worse.  I DO NOT recommend. I only give it a 2 because I did not get pregnant while on it.\"</td>\n",
       "      <td>2.0</td>\n",
       "      <td>September 27, 2016</td>\n",
       "      <td>0</td>\n",
       "    </tr>\n",
       "  </tbody>\n",
       "</table>\n",
       "</div>"
      ],
      "text/plain": [
       "        uniqueid                         drugName  \\\n",
       "50714   668       Medroxyprogesterone               \n",
       "156716  47701     Adapalene                         \n",
       "50788   187455    Monistat 3-Day Combination Pack   \n",
       "107240  90057     Ambrisentan                       \n",
       "156719  1139      Sumatriptan                       \n",
       "156720  221133    Drysol                            \n",
       "134835  637       Medroxyprogesterone               \n",
       "50779   1174      Sumatriptan                       \n",
       "156724  59432     Avelox                            \n",
       "51326   9408      Lo Loestrin Fe                    \n",
       "\n",
       "                                         condition  \\\n",
       "50714   NaN                                          \n",
       "156716  Acne                                         \n",
       "50788   Vaginal Yeast Infection                      \n",
       "107240  Pulmonary Hypertension                       \n",
       "156719  Migraine                                     \n",
       "156720  0</span> users found this comment helpful.   \n",
       "134835  Birth Control                                \n",
       "50779   Migraine                                     \n",
       "156724  Skin and Structure Infection                 \n",
       "51326   Birth Control                                \n",
       "\n",
       "                                                                                                                                                                                                                                                                                                                                                                                                                                                                                                                                                                                                                                                                                                                                                                                                        review  \\\n",
       "50714   \"This the only birth control that gets rid of my cramps and makes that time of the month much more pleasant. I&#039;ve been on it for almost a year. The only thing I do experience is being dry every once in a while but that&#039;s an easy fix. I don&#039;t bleed so much and I never have to think twice about a condom. \"                                                                                                                                                                                                                                                                                                                                                                                                                                                                         \n",
       "156716  \"I owe my self-confidence to adapalene! I went off to college in the fall and my skin immediately went completely out of wack. My doctor started out by prescribing me spironolactone to clear my skin, but I did not like the side effects. Her next suggestion was adapalene, and I couldn&#039;t be happier about deciding to start using it. I simultaneously started applying adapalene when I started hormonal birth control, so some of my clear skin could be because of the bc. I experienced about 3 weeks of an initial breakout, but by the 4th and 5th weeks I got to witness my skin get clearer and clearer everyday. It has now been 8 weeks, and all my breakouts are almost completely gone! My skin is dry, but loading it up with moisturizer every night is absolutely worth it.\"   \n",
       "50788   \"I have never gotten a YI, but I decided to get the 3 day tx. Today is my third day and the itchiness and burning is still there! It might be worse than the first 2 times. It&#039;s such a horrible, intense burning sensation that starts a couple minutes after insertion. It had me squirming like a worm with my legs clenched together. Not sure if that means it&#039;s working but I sure hope it&#039;s worth the pain.\"                                                                                                                                                                                                                                                                                                                                                                       \n",
       "107240  \"caused kidney failure and needed dialysis\"                                                                                                                                                                                                                                                                                                                                                                                                                                                                                                                                                                                                                                                                                                                                                              \n",
       "156719  \"Fabulous medication after getting to the point I was taking 16 200mg ibuprofen (way too many) a day and at least 8 paracetamol and not even getting relief this came as a god send. Worked wonderfully.\"                                                                                                                                                                                                                                                                                                                                                                                                                                                                                                                                                                                                \n",
       "156720  \"I was prescribed drysol because I found a lump in my armpit and my doctor thought it could be a clogged pore. The lump was gone within a week and so was any sweat! It wasn&#039;t painful for me, sometimes a little bit of itchiness but that&#039;s it. I just want to say to anyone who is experiencing pain, make sure you do not apply to freshly shaved armpits! The pharmisist told me this, one time I had shaved but forgot to put the drysol on before so I had to put it on after. I was in a lot of pain and it was very itchy. Otherwise this is a great product! I do sweat a lot on my hands and feet but when I use drysol it will stop for weeks!\"                                                                                                                                    \n",
       "134835  \"I have been using this since the birth of my second child 14 and 1/2 years ago. I love it. No periods. No daily medicines to try to remember. I have had a bone density scan and it was normal so worries there either. I think it is great!\"                                                                                                                                                                                                                                                                                                                                                                                                                                                                                                                                                           \n",
       "50779   \"I&#039;d taken Excedrin for years w/some effectiveness &amp; then had a streak where  headaches would return within a day and sought medical attention.  An urgent care doctor prescribed Bubalbital-APAP-Caffeine and I used it as needed for about a year and was happy with the results, but the prescription was running out.  Because the medication was prescribed by an urgent care doctor the prescription couldn&#039;t be refilled, so I had to see an internal medicine doctor and he prescribed Sumatriptan.  After taking the medicine today it did eventually take away my visual auras and it seems to block the full on migraine, but I feel kind of crummy with sinus drainage and pressure, grogginess and slight nausea.  Going to try w/pain reliever Naproxen.\"                    \n",
       "156724  \"I had a strange skin infection in my earlobe-- it was swollen, red, hot, and incredibly painful. I was first prescribed a different anti-biotic that did not help and in fact made the infection grow in size. After just 24 hours my ear was less swollen and my symptoms have only improved. I am not finished with the prescription yet but it is so great to finally have some relief.\"                                                                                                                                                                                                                                                                                                                                                                                                             \n",
       "51326   \"I hate this birth control! I have terrible mood swings, insanely increased appetite, and I&#039;ve gained 10 lbs.  My skin has also broken out like crazy. Tried to let my body get used to it for a few months but the symptoms have only gotten worse.  I DO NOT recommend. I only give it a 2 because I did not get pregnant while on it.\"                                                                                                                                                                                                                                                                                                                                                                                                                                                           \n",
       "\n",
       "        rating                date  usefulCount  \n",
       "50714   9.0     October 2, 2011     0            \n",
       "156716  10.0    December 9, 2017    0            \n",
       "50788   6.0     January 27, 2016    0            \n",
       "107240  1.0     April 11, 2016      0            \n",
       "156719  10.0    June 5, 2017        0            \n",
       "156720  10.0    October 16, 2016    0            \n",
       "134835  9.0     July 29, 2009       0            \n",
       "50779   5.0     July 14, 2016       0            \n",
       "156724  8.0     March 22, 2017      0            \n",
       "51326   2.0     September 27, 2016  0            "
      ]
     },
     "execution_count": 23,
     "metadata": {},
     "output_type": "execute_result"
    }
   ],
   "source": [
    "# Bottom 10 comments\n",
    "df_train.iloc[[50714, 156716, 50788, 107240, 156719, 156720, 134835, 50779, 156724, 51326]]"
   ]
  },
  {
   "cell_type": "markdown",
   "metadata": {},
   "source": [
    "### Comment\n"
   ]
  },
  {
   "cell_type": "code",
   "execution_count": 24,
   "metadata": {},
   "outputs": [
    {
     "data": {
      "text/html": [
       "<div>\n",
       "<style scoped>\n",
       "    .dataframe tbody tr th:only-of-type {\n",
       "        vertical-align: middle;\n",
       "    }\n",
       "\n",
       "    .dataframe tbody tr th {\n",
       "        vertical-align: top;\n",
       "    }\n",
       "\n",
       "    .dataframe thead th {\n",
       "        text-align: right;\n",
       "    }\n",
       "</style>\n",
       "<table border=\"1\" class=\"dataframe\">\n",
       "  <thead>\n",
       "    <tr style=\"text-align: right;\">\n",
       "      <th></th>\n",
       "      <th>uniqueid</th>\n",
       "      <th>drugName</th>\n",
       "      <th>condition</th>\n",
       "      <th>review</th>\n",
       "      <th>rating</th>\n",
       "      <th>date</th>\n",
       "      <th>usefulCount</th>\n",
       "    </tr>\n",
       "  </thead>\n",
       "  <tbody>\n",
       "    <tr>\n",
       "      <th>110436</th>\n",
       "      <td>228830</td>\n",
       "      <td>Tadalafil</td>\n",
       "      <td>Erectile Dysfunction</td>\n",
       "      <td>\"❤️❤️❤️ Cialis for US!!    I wish I had my husband start this decades ago \"</td>\n",
       "      <td>10.0</td>\n",
       "      <td>August 7, 2017</td>\n",
       "      <td>12</td>\n",
       "    </tr>\n",
       "    <tr>\n",
       "      <th>86737</th>\n",
       "      <td>155791</td>\n",
       "      <td>Cialis</td>\n",
       "      <td>Erectile Dysfunction</td>\n",
       "      <td>\"❤️❤️❤️ Cialis for US!!    I wish I had my husband start this decades ago \"</td>\n",
       "      <td>10.0</td>\n",
       "      <td>August 7, 2017</td>\n",
       "      <td>12</td>\n",
       "    </tr>\n",
       "    <tr>\n",
       "      <th>107645</th>\n",
       "      <td>123799</td>\n",
       "      <td>Skyla</td>\n",
       "      <td>Birth Control</td>\n",
       "      <td>\"you know that feeling when you miss your period by a couple of days when you&amp;#039;re on the pill? The one where you google signs of pregnancy- moody, , bloating,tired (what I feel everyday of my life) and then they tell you are pregnant and have all the STD&amp;#039;s. Then your heart drops you freak out and can&amp;#039;t concentrate at work. Yeah that one. \\r\\n\\r\\nI haven&amp;#039;t had that feeling in two years because of skyla and it is the bomb.\"</td>\n",
       "      <td>10.0</td>\n",
       "      <td>November 23, 2016</td>\n",
       "      <td>18</td>\n",
       "    </tr>\n",
       "    <tr>\n",
       "      <th>85038</th>\n",
       "      <td>166377</td>\n",
       "      <td>Levonorgestrel</td>\n",
       "      <td>Birth Control</td>\n",
       "      <td>\"you know that feeling when you miss your period by a couple of days when you&amp;#039;re on the pill? The one where you google signs of pregnancy- moody, , bloating,tired (what I feel everyday of my life) and then they tell you are pregnant and have all the STD&amp;#039;s. Then your heart drops you freak out and can&amp;#039;t concentrate at work. Yeah that one. \\r\\n\\r\\nI haven&amp;#039;t had that feeling in two years because of skyla and it is the bomb.\"</td>\n",
       "      <td>10.0</td>\n",
       "      <td>November 23, 2016</td>\n",
       "      <td>18</td>\n",
       "    </tr>\n",
       "    <tr>\n",
       "      <th>144899</th>\n",
       "      <td>86962</td>\n",
       "      <td>Latuda</td>\n",
       "      <td>Schizophrenia</td>\n",
       "      <td>\"you can go insane if you get off this drug cold-turkey and if your drinking/drugs inbetween you will end up at the hospital like me, i stopped using for 3 months now, the last few days have been a nightmare I was smoking weed while not taking latuda, and I had a depressive breakdown where i ended up in emergency twice in the past 4 days, i was so fatigued my eyes were shutting on their own and i thought i was going to die if i fall asleep, its a feeling of insanity dont mess around with this drug. Go step by step as your doctor tells you, overall the drug has its ups and downs some of the side effects are dreadfull, goodluck\"</td>\n",
       "      <td>4.0</td>\n",
       "      <td>November 1, 2016</td>\n",
       "      <td>6</td>\n",
       "    </tr>\n",
       "    <tr>\n",
       "      <th>...</th>\n",
       "      <td>...</td>\n",
       "      <td>...</td>\n",
       "      <td>...</td>\n",
       "      <td>...</td>\n",
       "      <td>...</td>\n",
       "      <td>...</td>\n",
       "      <td>...</td>\n",
       "    </tr>\n",
       "    <tr>\n",
       "      <th>9906</th>\n",
       "      <td>148712</td>\n",
       "      <td>Mirena</td>\n",
       "      <td>Birth Control</td>\n",
       "      <td>\"\\r\\nI got tired of taking the pill so I figured this might be a great alternative. Boy was I wrong.\\r\\n\\r\\nYes, it kept me from getting pregnant but it gave me bacterial vaginosis on every other week...and I only had it inserted for a month and a half!\\r\\n\\r\\nI would get the BV treated, and it be right back like clock work. Also, my partner reported that the strings were uncomfortable and they poked him during intercourse.\\r\\n\\r\\nGlad to report that 9 months after I have had it removed, I have not had a single stint of bacterial vaginosis and I am sticking with the pill.\"</td>\n",
       "      <td>3.0</td>\n",
       "      <td>June 8, 2016</td>\n",
       "      <td>1</td>\n",
       "    </tr>\n",
       "    <tr>\n",
       "      <th>133273</th>\n",
       "      <td>191485</td>\n",
       "      <td>Lisdexamfetamine</td>\n",
       "      <td>ADHD</td>\n",
       "      <td>\"\\r\\nGood. Concentration, happy, easy to talk to\\r\\n\\r\\nBad: ECG showed it was bad for my heart, had to stop. Anxiety, afraid and didn&amp;#039;t know why. Although it made me happy it felt fake and like I was a prisoner in my mind just  pleasing others. I won&amp;#039;t take it to please others. \\r\\n\\r\\nMeds basically free in my country after reaching over $300 cause third highest tax paying country in the world.\"</td>\n",
       "      <td>5.0</td>\n",
       "      <td>October 17, 2015</td>\n",
       "      <td>10</td>\n",
       "    </tr>\n",
       "    <tr>\n",
       "      <th>145940</th>\n",
       "      <td>37325</td>\n",
       "      <td>Vyvanse</td>\n",
       "      <td>ADHD</td>\n",
       "      <td>\"\\r\\nGood. Concentration, happy, easy to talk to\\r\\n\\r\\nBad: ECG showed it was bad for my heart, had to stop. Anxiety, afraid and didn&amp;#039;t know why. Although it made me happy it felt fake and like I was a prisoner in my mind just  pleasing others. I won&amp;#039;t take it to please others. \\r\\n\\r\\nMeds basically free in my country after reaching over $300 cause third highest tax paying country in the world.\"</td>\n",
       "      <td>5.0</td>\n",
       "      <td>October 17, 2015</td>\n",
       "      <td>10</td>\n",
       "    </tr>\n",
       "    <tr>\n",
       "      <th>97789</th>\n",
       "      <td>83898</td>\n",
       "      <td>Ethinyl estradiol / norgestimate</td>\n",
       "      <td>Birth Control</td>\n",
       "      <td>\"\\r\\nFirst of all, the worst side effect for me is the constant yeast infections. Never had one in my life until I started this pill, now I will have one constantly, cured for a week then it returns with vengeance. So dry down there, to the point where my partner and I had tension about one of us unknowingly carrying and STD (neither of us were) absolute horrific mood swings, you will become a completely different person. Nausea. Sweating. Weight gain. All of the things you don&amp;#039;t want. It took me 3 months to realize this pill was the source of my misery. Do yourself a favor and stop it, there are so many better options out there ladies! Best of luck x o\"</td>\n",
       "      <td>1.0</td>\n",
       "      <td>September 12, 2017</td>\n",
       "      <td>2</td>\n",
       "    </tr>\n",
       "    <tr>\n",
       "      <th>73400</th>\n",
       "      <td>124699</td>\n",
       "      <td>Tri-Previfem</td>\n",
       "      <td>Birth Control</td>\n",
       "      <td>\"\\r\\nFirst of all, the worst side effect for me is the constant yeast infections. Never had one in my life until I started this pill, now I will have one constantly, cured for a week then it returns with vengeance. So dry down there, to the point where my partner and I had tension about one of us unknowingly carrying and STD (neither of us were) absolute horrific mood swings, you will become a completely different person. Nausea. Sweating. Weight gain. All of the things you don&amp;#039;t want. It took me 3 months to realize this pill was the source of my misery. Do yourself a favor and stop it, there are so many better options out there ladies! Best of luck x o\"</td>\n",
       "      <td>1.0</td>\n",
       "      <td>September 12, 2017</td>\n",
       "      <td>2</td>\n",
       "    </tr>\n",
       "  </tbody>\n",
       "</table>\n",
       "<p>97603 rows × 7 columns</p>\n",
       "</div>"
      ],
      "text/plain": [
       "        uniqueid                          drugName             condition  \\\n",
       "110436  228830    Tadalafil                         Erectile Dysfunction   \n",
       "86737   155791    Cialis                            Erectile Dysfunction   \n",
       "107645  123799    Skyla                             Birth Control          \n",
       "85038   166377    Levonorgestrel                    Birth Control          \n",
       "144899  86962     Latuda                            Schizophrenia          \n",
       "...       ...        ...                                      ...          \n",
       "9906    148712    Mirena                            Birth Control          \n",
       "133273  191485    Lisdexamfetamine                  ADHD                   \n",
       "145940  37325     Vyvanse                           ADHD                   \n",
       "97789   83898     Ethinyl estradiol / norgestimate  Birth Control          \n",
       "73400   124699    Tri-Previfem                      Birth Control          \n",
       "\n",
       "                                                                                                                                                                                                                                                                                                                                                                                                                                                                                                                                                                                                                                                                                             review  \\\n",
       "110436  \"❤️❤️❤️ Cialis for US!!    I wish I had my husband start this decades ago \"                                                                                                                                                                                                                                                                                                                                                                                                                                                                                                                                                                                                                   \n",
       "86737   \"❤️❤️❤️ Cialis for US!!    I wish I had my husband start this decades ago \"                                                                                                                                                                                                                                                                                                                                                                                                                                                                                                                                                                                                                   \n",
       "107645  \"you know that feeling when you miss your period by a couple of days when you&#039;re on the pill? The one where you google signs of pregnancy- moody, , bloating,tired (what I feel everyday of my life) and then they tell you are pregnant and have all the STD&#039;s. Then your heart drops you freak out and can&#039;t concentrate at work. Yeah that one. \\r\\n\\r\\nI haven&#039;t had that feeling in two years because of skyla and it is the bomb.\"                                                                                                                                                                                                                                  \n",
       "85038   \"you know that feeling when you miss your period by a couple of days when you&#039;re on the pill? The one where you google signs of pregnancy- moody, , bloating,tired (what I feel everyday of my life) and then they tell you are pregnant and have all the STD&#039;s. Then your heart drops you freak out and can&#039;t concentrate at work. Yeah that one. \\r\\n\\r\\nI haven&#039;t had that feeling in two years because of skyla and it is the bomb.\"                                                                                                                                                                                                                                  \n",
       "144899  \"you can go insane if you get off this drug cold-turkey and if your drinking/drugs inbetween you will end up at the hospital like me, i stopped using for 3 months now, the last few days have been a nightmare I was smoking weed while not taking latuda, and I had a depressive breakdown where i ended up in emergency twice in the past 4 days, i was so fatigued my eyes were shutting on their own and i thought i was going to die if i fall asleep, its a feeling of insanity dont mess around with this drug. Go step by step as your doctor tells you, overall the drug has its ups and downs some of the side effects are dreadfull, goodluck\"                                    \n",
       "...                                                                                                                                                                                                                                                                                                                                                                                                                                                                                                                                                                                                                                                            ...                                    \n",
       "9906    \"\\r\\nI got tired of taking the pill so I figured this might be a great alternative. Boy was I wrong.\\r\\n\\r\\nYes, it kept me from getting pregnant but it gave me bacterial vaginosis on every other week...and I only had it inserted for a month and a half!\\r\\n\\r\\nI would get the BV treated, and it be right back like clock work. Also, my partner reported that the strings were uncomfortable and they poked him during intercourse.\\r\\n\\r\\nGlad to report that 9 months after I have had it removed, I have not had a single stint of bacterial vaginosis and I am sticking with the pill.\"                                                                                           \n",
       "133273  \"\\r\\nGood. Concentration, happy, easy to talk to\\r\\n\\r\\nBad: ECG showed it was bad for my heart, had to stop. Anxiety, afraid and didn&#039;t know why. Although it made me happy it felt fake and like I was a prisoner in my mind just  pleasing others. I won&#039;t take it to please others. \\r\\n\\r\\nMeds basically free in my country after reaching over $300 cause third highest tax paying country in the world.\"                                                                                                                                                                                                                                                                    \n",
       "145940  \"\\r\\nGood. Concentration, happy, easy to talk to\\r\\n\\r\\nBad: ECG showed it was bad for my heart, had to stop. Anxiety, afraid and didn&#039;t know why. Although it made me happy it felt fake and like I was a prisoner in my mind just  pleasing others. I won&#039;t take it to please others. \\r\\n\\r\\nMeds basically free in my country after reaching over $300 cause third highest tax paying country in the world.\"                                                                                                                                                                                                                                                                    \n",
       "97789   \"\\r\\nFirst of all, the worst side effect for me is the constant yeast infections. Never had one in my life until I started this pill, now I will have one constantly, cured for a week then it returns with vengeance. So dry down there, to the point where my partner and I had tension about one of us unknowingly carrying and STD (neither of us were) absolute horrific mood swings, you will become a completely different person. Nausea. Sweating. Weight gain. All of the things you don&#039;t want. It took me 3 months to realize this pill was the source of my misery. Do yourself a favor and stop it, there are so many better options out there ladies! Best of luck x o\"   \n",
       "73400   \"\\r\\nFirst of all, the worst side effect for me is the constant yeast infections. Never had one in my life until I started this pill, now I will have one constantly, cured for a week then it returns with vengeance. So dry down there, to the point where my partner and I had tension about one of us unknowingly carrying and STD (neither of us were) absolute horrific mood swings, you will become a completely different person. Nausea. Sweating. Weight gain. All of the things you don&#039;t want. It took me 3 months to realize this pill was the source of my misery. Do yourself a favor and stop it, there are so many better options out there ladies! Best of luck x o\"   \n",
       "\n",
       "        rating                date  usefulCount  \n",
       "110436  10.0    August 7, 2017      12           \n",
       "86737   10.0    August 7, 2017      12           \n",
       "107645  10.0    November 23, 2016   18           \n",
       "85038   10.0    November 23, 2016   18           \n",
       "144899  4.0     November 1, 2016    6            \n",
       "...     ...                  ...   ..            \n",
       "9906    3.0     June 8, 2016        1            \n",
       "133273  5.0     October 17, 2015    10           \n",
       "145940  5.0     October 17, 2015    10           \n",
       "97789   1.0     September 12, 2017  2            \n",
       "73400   1.0     September 12, 2017  2            \n",
       "\n",
       "[97603 rows x 7 columns]"
      ]
     },
     "execution_count": 24,
     "metadata": {},
     "output_type": "execute_result"
    }
   ],
   "source": [
    "# Lets check for duplicates \n",
    "df_train[df_train['review'].duplicated(keep=False)].sort_values(by='review', ascending=False)"
   ]
  },
  {
   "cell_type": "markdown",
   "metadata": {},
   "source": [
    "### Comment\n",
    "There seems to be some duplicated rows. Needs to be cleaned later. "
   ]
  },
  {
   "cell_type": "code",
   "execution_count": 25,
   "metadata": {},
   "outputs": [
    {
     "data": {
      "text/plain": [
       "50989"
      ]
     },
     "execution_count": 25,
     "metadata": {},
     "output_type": "execute_result"
    }
   ],
   "source": [
    "# Lets count how many top ratings are there\n",
    "len(df_train[df_train['rating']==10])\n",
    "# There are 50989 top rating comments"
   ]
  },
  {
   "cell_type": "code",
   "execution_count": 26,
   "metadata": {},
   "outputs": [
    {
     "data": {
      "text/html": [
       "<div>\n",
       "<style scoped>\n",
       "    .dataframe tbody tr th:only-of-type {\n",
       "        vertical-align: middle;\n",
       "    }\n",
       "\n",
       "    .dataframe tbody tr th {\n",
       "        vertical-align: top;\n",
       "    }\n",
       "\n",
       "    .dataframe thead th {\n",
       "        text-align: right;\n",
       "    }\n",
       "</style>\n",
       "<table border=\"1\" class=\"dataframe\">\n",
       "  <thead>\n",
       "    <tr style=\"text-align: right;\">\n",
       "      <th></th>\n",
       "      <th>uniqueid</th>\n",
       "      <th>drugName</th>\n",
       "      <th>condition</th>\n",
       "      <th>review</th>\n",
       "      <th>rating</th>\n",
       "      <th>date</th>\n",
       "      <th>usefulCount</th>\n",
       "    </tr>\n",
       "  </thead>\n",
       "  <tbody>\n",
       "    <tr>\n",
       "      <th>7</th>\n",
       "      <td>102654</td>\n",
       "      <td>Aripiprazole</td>\n",
       "      <td>Bipolar Disorde</td>\n",
       "      <td>\"Abilify changed my life. There is hope. I was on Zoloft and Clonidine when I first started Abilify at the age of 15.. Zoloft for depression and Clondine to manage my complete rage. My moods were out of control. I was depressed and hopeless one second and then mean, irrational, and full of rage the next. My Dr. prescribed me 2mg of Abilify and from that point on I feel like I have been cured though I know I&amp;#039;m not.. Bi-polar disorder is a constant battle. I know Abilify works for me because I have tried to get off it and lost complete control over my emotions. Went back on it and I was golden again.  I am on 5mg 2x daily. I am now 21 and better than I have ever been in the past. Only side effect is I like to eat a lot.\"</td>\n",
       "      <td>10.0</td>\n",
       "      <td>March 14, 2015</td>\n",
       "      <td>32</td>\n",
       "    </tr>\n",
       "    <tr>\n",
       "      <th>11</th>\n",
       "      <td>75612</td>\n",
       "      <td>L-methylfolate</td>\n",
       "      <td>Depression</td>\n",
       "      <td>\"I have taken anti-depressants for years, with some improvement but mostly moderate to severe side affects, which makes me go off them.\\r\\n\\r\\nI only take Cymbalta now mostly for pain.\\r\\n\\r\\nWhen I began Deplin, I noticed a major improvement overnight. More energy, better disposition, and no sinking to the low lows of major depression. I have been taking it for about 3 months now and feel like a normal person for the first time ever. Best thing, no side effects.\"</td>\n",
       "      <td>10.0</td>\n",
       "      <td>March 9, 2017</td>\n",
       "      <td>54</td>\n",
       "    </tr>\n",
       "    <tr>\n",
       "      <th>18</th>\n",
       "      <td>212077</td>\n",
       "      <td>Lamotrigine</td>\n",
       "      <td>Bipolar Disorde</td>\n",
       "      <td>\"I&amp;#039;ve been on every medicine under the sun (it seems) to manage the hypomania / mania of Bipolar2. Within a few days of starting Lamictal (was on Tegretol) it was as if someone had turned a light on in my head. Is this the way &amp;quot;normal&amp;quot; people think? was one of the first things that struck me. I sleep like a log, have no irritability, almost no anger (other than what would be considered normal). I am able to focus and my creative, impulsive thoughts have decreased enough to be manageable. It&amp;#039;s a God send as I would perennially be in a state of hypo mania, which sounds great, but I was physically and emotionally exhausted. My libido is markedly lower but I wonder if that is perhaps an effect of not being hypo manic. I take 20 mg for anxiety.\"</td>\n",
       "      <td>10.0</td>\n",
       "      <td>November 9, 2014</td>\n",
       "      <td>18</td>\n",
       "    </tr>\n",
       "    <tr>\n",
       "      <th>19</th>\n",
       "      <td>119705</td>\n",
       "      <td>Nilotinib</td>\n",
       "      <td>Chronic Myelogenous Leukemia</td>\n",
       "      <td>\"I have been on Tasigna for just over 3 years now (300mg x 2 times a day) Tasigna worked for me within a few weeks I have been in remission for basically the entire 3 years. As for the side effects, I feel sick to my stomach, tired,  severe leg and arm pain, I can&amp;#039;t walk to long without needing a break, I went from working full time to not working at all because I am so tired all the time.... but hey I am in remission and alive so is all the above really a problem? Nope\"</td>\n",
       "      <td>10.0</td>\n",
       "      <td>September 1, 2015</td>\n",
       "      <td>11</td>\n",
       "    </tr>\n",
       "    <tr>\n",
       "      <th>21</th>\n",
       "      <td>231466</td>\n",
       "      <td>Trazodone</td>\n",
       "      <td>Insomnia</td>\n",
       "      <td>\"I have insomnia, it&amp;#039;s horrible. My story begins with my PCP prescribing me Prozac to help with intestinal issues, because I was desperate I tried it, I was on it for 3 weeks. Stopped because of insomnia. Then I was prescribed Ativan, it out me out, but was very addicting. I had rebound insomnia. Then after about 14 days I hardly any sleep l tried the doctor one more time. I asked him about Trazadone. He told me that was a good medication for insomnia. He put me on 25 mgs, but stated I may have to figure out what dosage is best for me. I am currently taking 100 mgs, which is on the low range of what is prescribed, 400 mgs being at the high end for insomnia. I have the dry mouth and nasel congestion. I can live with that, I sleep now, yeah...\"</td>\n",
       "      <td>10.0</td>\n",
       "      <td>April 3, 2016</td>\n",
       "      <td>43</td>\n",
       "    </tr>\n",
       "    <tr>\n",
       "      <th>23</th>\n",
       "      <td>41928</td>\n",
       "      <td>Etanercept</td>\n",
       "      <td>Rheumatoid Arthritis</td>\n",
       "      <td>\"I live in Western Australia and disturbed by some comments on here. The cost of Embrel is cost of an ordinary prescription $36 for me the government pays the remainder of the cost to the chemist. I also go to the the medical centre every Saturday morning a Dr looks over my prescription and then he advises the nurse to administer the injection also no cost to myself and this is part of nurses duties. I am unsure of the country where people who have made comments referring to cost and that nobody is there to  administer the injection for them. I am very lucky to live in Australia as we have the best health system worldwide and everybody is  given the opportunity to receive proper medical help whether you are rich or poor there is no discrimination.\"</td>\n",
       "      <td>10.0</td>\n",
       "      <td>September 16, 2017</td>\n",
       "      <td>4</td>\n",
       "    </tr>\n",
       "    <tr>\n",
       "      <th>26</th>\n",
       "      <td>206180</td>\n",
       "      <td>Eflornithine</td>\n",
       "      <td>Hirsutism</td>\n",
       "      <td>\"I&amp;#039;m writing a second review on Vaniqa.  I started using this in February this year. Twice a day although some days/times I do forget. I just want to say how delighted I am to have found this. It has totally and completely changed my life! I had terrible male pattern hair growth all over my cheeks, chin, upper and lower lip and starting to grow down my neck. I used to pluck for up to 2 hrs a time every 3rd day but was never hair free. I wouldn&amp;#039;t kiss anyone hello or goodbye as even plucked the stubble could be felt under my skin. 3 months on im not scared of being caught in bright sunlight I pluck around once a fortnight and it takes around 10 mins. The hairs that are coming through are soft and downy. My life is transformed.\"</td>\n",
       "      <td>10.0</td>\n",
       "      <td>May 11, 2014</td>\n",
       "      <td>99</td>\n",
       "    </tr>\n",
       "    <tr>\n",
       "      <th>27</th>\n",
       "      <td>78563</td>\n",
       "      <td>Daytrana</td>\n",
       "      <td>ADHD</td>\n",
       "      <td>\"Hi all, My son who is 12 was diagnosed when he was in 2nd grade. We tried everything before medication. When we tried meds, the first one made him loose weight, fast. The second gave him a nasty tic that thankfully went away as soon as he stopped the med, the third worked for a couple of years and around January of last year we started to have problems so his doctor recommended Daytrana. It has been wonderful for my son! Easy to use, he handles this for himself each day and takes it off when he gets home from school. The patch effects last long enough for him to do his homework. He does have issues with weight gain and sleep but he uses melatonin before bed if he feels like he will not be able to shut down. The shortage is KILLING us!\"</td>\n",
       "      <td>10.0</td>\n",
       "      <td>January 12, 2017</td>\n",
       "      <td>11</td>\n",
       "    </tr>\n",
       "    <tr>\n",
       "      <th>30</th>\n",
       "      <td>51452</td>\n",
       "      <td>Azithromycin</td>\n",
       "      <td>NaN</td>\n",
       "      <td>\"Very good response. It is so useful for me. \"</td>\n",
       "      <td>10.0</td>\n",
       "      <td>August 18, 2010</td>\n",
       "      <td>1</td>\n",
       "    </tr>\n",
       "    <tr>\n",
       "      <th>32</th>\n",
       "      <td>204999</td>\n",
       "      <td>Toradol</td>\n",
       "      <td>Pain</td>\n",
       "      <td>\"I am 30 years old. I had a multiple composite spinal injuries 15 years ago. The aches and pains unbearable. I started taking anti-inflammatories about 2 years ago. I started getting injections every month of Toradol and &amp;quot;Depo&amp;quot; something. I am almost off all pain meds I mean I still have bad days but I can function again.\"</td>\n",
       "      <td>10.0</td>\n",
       "      <td>February 11, 2013</td>\n",
       "      <td>16</td>\n",
       "    </tr>\n",
       "  </tbody>\n",
       "</table>\n",
       "</div>"
      ],
      "text/plain": [
       "    uniqueid        drugName                     condition  \\\n",
       "7   102654    Aripiprazole    Bipolar Disorde                \n",
       "11  75612     L-methylfolate  Depression                     \n",
       "18  212077    Lamotrigine     Bipolar Disorde                \n",
       "19  119705    Nilotinib       Chronic Myelogenous Leukemia   \n",
       "21  231466    Trazodone       Insomnia                       \n",
       "23  41928     Etanercept      Rheumatoid Arthritis           \n",
       "26  206180    Eflornithine    Hirsutism                      \n",
       "27  78563     Daytrana        ADHD                           \n",
       "30  51452     Azithromycin    NaN                            \n",
       "32  204999    Toradol         Pain                           \n",
       "\n",
       "                                                                                                                                                                                                                                                                                                                                                                                                                                                                                                                                                                                                                                                                                                                                                                                                review  \\\n",
       "7   \"Abilify changed my life. There is hope. I was on Zoloft and Clonidine when I first started Abilify at the age of 15.. Zoloft for depression and Clondine to manage my complete rage. My moods were out of control. I was depressed and hopeless one second and then mean, irrational, and full of rage the next. My Dr. prescribed me 2mg of Abilify and from that point on I feel like I have been cured though I know I&#039;m not.. Bi-polar disorder is a constant battle. I know Abilify works for me because I have tried to get off it and lost complete control over my emotions. Went back on it and I was golden again.  I am on 5mg 2x daily. I am now 21 and better than I have ever been in the past. Only side effect is I like to eat a lot.\"                                        \n",
       "11  \"I have taken anti-depressants for years, with some improvement but mostly moderate to severe side affects, which makes me go off them.\\r\\n\\r\\nI only take Cymbalta now mostly for pain.\\r\\n\\r\\nWhen I began Deplin, I noticed a major improvement overnight. More energy, better disposition, and no sinking to the low lows of major depression. I have been taking it for about 3 months now and feel like a normal person for the first time ever. Best thing, no side effects.\"                                                                                                                                                                                                                                                                                                                 \n",
       "18  \"I&#039;ve been on every medicine under the sun (it seems) to manage the hypomania / mania of Bipolar2. Within a few days of starting Lamictal (was on Tegretol) it was as if someone had turned a light on in my head. Is this the way &quot;normal&quot; people think? was one of the first things that struck me. I sleep like a log, have no irritability, almost no anger (other than what would be considered normal). I am able to focus and my creative, impulsive thoughts have decreased enough to be manageable. It&#039;s a God send as I would perennially be in a state of hypo mania, which sounds great, but I was physically and emotionally exhausted. My libido is markedly lower but I wonder if that is perhaps an effect of not being hypo manic. I take 20 mg for anxiety.\"   \n",
       "19  \"I have been on Tasigna for just over 3 years now (300mg x 2 times a day) Tasigna worked for me within a few weeks I have been in remission for basically the entire 3 years. As for the side effects, I feel sick to my stomach, tired,  severe leg and arm pain, I can&#039;t walk to long without needing a break, I went from working full time to not working at all because I am so tired all the time.... but hey I am in remission and alive so is all the above really a problem? Nope\"                                                                                                                                                                                                                                                                                                     \n",
       "21  \"I have insomnia, it&#039;s horrible. My story begins with my PCP prescribing me Prozac to help with intestinal issues, because I was desperate I tried it, I was on it for 3 weeks. Stopped because of insomnia. Then I was prescribed Ativan, it out me out, but was very addicting. I had rebound insomnia. Then after about 14 days I hardly any sleep l tried the doctor one more time. I asked him about Trazadone. He told me that was a good medication for insomnia. He put me on 25 mgs, but stated I may have to figure out what dosage is best for me. I am currently taking 100 mgs, which is on the low range of what is prescribed, 400 mgs being at the high end for insomnia. I have the dry mouth and nasel congestion. I can live with that, I sleep now, yeah...\"                \n",
       "23  \"I live in Western Australia and disturbed by some comments on here. The cost of Embrel is cost of an ordinary prescription $36 for me the government pays the remainder of the cost to the chemist. I also go to the the medical centre every Saturday morning a Dr looks over my prescription and then he advises the nurse to administer the injection also no cost to myself and this is part of nurses duties. I am unsure of the country where people who have made comments referring to cost and that nobody is there to  administer the injection for them. I am very lucky to live in Australia as we have the best health system worldwide and everybody is  given the opportunity to receive proper medical help whether you are rich or poor there is no discrimination.\"               \n",
       "26  \"I&#039;m writing a second review on Vaniqa.  I started using this in February this year. Twice a day although some days/times I do forget. I just want to say how delighted I am to have found this. It has totally and completely changed my life! I had terrible male pattern hair growth all over my cheeks, chin, upper and lower lip and starting to grow down my neck. I used to pluck for up to 2 hrs a time every 3rd day but was never hair free. I wouldn&#039;t kiss anyone hello or goodbye as even plucked the stubble could be felt under my skin. 3 months on im not scared of being caught in bright sunlight I pluck around once a fortnight and it takes around 10 mins. The hairs that are coming through are soft and downy. My life is transformed.\"                           \n",
       "27  \"Hi all, My son who is 12 was diagnosed when he was in 2nd grade. We tried everything before medication. When we tried meds, the first one made him loose weight, fast. The second gave him a nasty tic that thankfully went away as soon as he stopped the med, the third worked for a couple of years and around January of last year we started to have problems so his doctor recommended Daytrana. It has been wonderful for my son! Easy to use, he handles this for himself each day and takes it off when he gets home from school. The patch effects last long enough for him to do his homework. He does have issues with weight gain and sleep but he uses melatonin before bed if he feels like he will not be able to shut down. The shortage is KILLING us!\"                           \n",
       "30  \"Very good response. It is so useful for me. \"                                                                                                                                                                                                                                                                                                                                                                                                                                                                                                                                                                                                                                                                                                                                                       \n",
       "32  \"I am 30 years old. I had a multiple composite spinal injuries 15 years ago. The aches and pains unbearable. I started taking anti-inflammatories about 2 years ago. I started getting injections every month of Toradol and &quot;Depo&quot; something. I am almost off all pain meds I mean I still have bad days but I can function again.\"                                                                                                                                                                                                                                                                                                                                                                                                                                                       \n",
       "\n",
       "    rating                date  usefulCount  \n",
       "7   10.0    March 14, 2015      32           \n",
       "11  10.0    March 9, 2017       54           \n",
       "18  10.0    November 9, 2014    18           \n",
       "19  10.0    September 1, 2015   11           \n",
       "21  10.0    April 3, 2016       43           \n",
       "23  10.0    September 16, 2017  4            \n",
       "26  10.0    May 11, 2014        99           \n",
       "27  10.0    January 12, 2017    11           \n",
       "30  10.0    August 18, 2010     1            \n",
       "32  10.0    February 11, 2013   16           "
      ]
     },
     "execution_count": 26,
     "metadata": {},
     "output_type": "execute_result"
    }
   ],
   "source": [
    "# Lets check out some of the high rating comments\n",
    "df_train[df_train['rating']==10].head(10)"
   ]
  },
  {
   "cell_type": "markdown",
   "metadata": {},
   "source": [
    "### Comment\n",
    "There seems to be some null values. Needs to be cleaned later. "
   ]
  },
  {
   "cell_type": "code",
   "execution_count": 27,
   "metadata": {},
   "outputs": [
    {
     "data": {
      "text/plain": [
       "21619"
      ]
     },
     "execution_count": 27,
     "metadata": {},
     "output_type": "execute_result"
    }
   ],
   "source": [
    "len(df_train[df_train['rating']==1])"
   ]
  },
  {
   "cell_type": "code",
   "execution_count": 28,
   "metadata": {},
   "outputs": [
    {
     "data": {
      "text/html": [
       "<div>\n",
       "<style scoped>\n",
       "    .dataframe tbody tr th:only-of-type {\n",
       "        vertical-align: middle;\n",
       "    }\n",
       "\n",
       "    .dataframe tbody tr th {\n",
       "        vertical-align: top;\n",
       "    }\n",
       "\n",
       "    .dataframe thead th {\n",
       "        text-align: right;\n",
       "    }\n",
       "</style>\n",
       "<table border=\"1\" class=\"dataframe\">\n",
       "  <thead>\n",
       "    <tr style=\"text-align: right;\">\n",
       "      <th></th>\n",
       "      <th>uniqueid</th>\n",
       "      <th>drugName</th>\n",
       "      <th>condition</th>\n",
       "      <th>review</th>\n",
       "      <th>rating</th>\n",
       "      <th>date</th>\n",
       "      <th>usefulCount</th>\n",
       "    </tr>\n",
       "  </thead>\n",
       "  <tbody>\n",
       "    <tr>\n",
       "      <th>6</th>\n",
       "      <td>165907</td>\n",
       "      <td>Levonorgestrel</td>\n",
       "      <td>Emergency Contraception</td>\n",
       "      <td>\"He pulled out, but he cummed a bit in me. I took the Plan B 26 hours later, and took a pregnancy test two weeks later - - I&amp;#039;m pregnant.\"</td>\n",
       "      <td>1.0</td>\n",
       "      <td>March 7, 2017</td>\n",
       "      <td>5</td>\n",
       "    </tr>\n",
       "    <tr>\n",
       "      <th>8</th>\n",
       "      <td>74811</td>\n",
       "      <td>Keppra</td>\n",
       "      <td>Epilepsy</td>\n",
       "      <td>\" I Ve had  nothing but problems with the Keppera : constant shaking in my arms &amp;amp; legs &amp;amp; pins &amp;amp; needles feeling in my arms &amp;amp; legs severe light headedness no appetite &amp;amp; etc.\"</td>\n",
       "      <td>1.0</td>\n",
       "      <td>August 9, 2016</td>\n",
       "      <td>11</td>\n",
       "    </tr>\n",
       "    <tr>\n",
       "      <th>24</th>\n",
       "      <td>213649</td>\n",
       "      <td>Tioconazole</td>\n",
       "      <td>Vaginal Yeast Infection</td>\n",
       "      <td>\"Do not use the cream that comes with this. It turned my hoo-ha into a burning ring of fire. It is 1 am and I have to work tomorrow. It&amp;#039;s going to be a sleepless night for me\"</td>\n",
       "      <td>1.0</td>\n",
       "      <td>April 17, 2017</td>\n",
       "      <td>7</td>\n",
       "    </tr>\n",
       "    <tr>\n",
       "      <th>33</th>\n",
       "      <td>214453</td>\n",
       "      <td>Tioconazole</td>\n",
       "      <td>Vaginal Yeast Infection</td>\n",
       "      <td>\"The burning is out of control about 20 minutes after inserting it . Sat in the bath trying to get this stuff out . This is awful\"</td>\n",
       "      <td>1.0</td>\n",
       "      <td>September 11, 2015</td>\n",
       "      <td>2</td>\n",
       "    </tr>\n",
       "    <tr>\n",
       "      <th>36</th>\n",
       "      <td>125343</td>\n",
       "      <td>Dulcolax</td>\n",
       "      <td>Constipation</td>\n",
       "      <td>\"SO MUCH PAIN! \\r\\nIn the last 2 years I have suffered with a brain tumour so have been in a LOT of pain to the point of morphine everyday for a year. Then I had brain surgery...but the pain from this pill came pretty close!! In serious pain to the point of blacking out hot and cold shivers and just sat in pain feeling like trapped wind/indigestion it&amp;#039;s just.. Ahhhh!!!! Don&amp;#039;t take this!!!\"</td>\n",
       "      <td>1.0</td>\n",
       "      <td>February 13, 2016</td>\n",
       "      <td>10</td>\n",
       "    </tr>\n",
       "    <tr>\n",
       "      <th>51</th>\n",
       "      <td>135645</td>\n",
       "      <td>Intuniv</td>\n",
       "      <td>ADHD</td>\n",
       "      <td>\"Intuniv did not work for my son; he was bouncing off the walls while he was taking it, and having major issues in class! It seems to work the opposite on him!\"</td>\n",
       "      <td>1.0</td>\n",
       "      <td>July 21, 2011</td>\n",
       "      <td>23</td>\n",
       "    </tr>\n",
       "    <tr>\n",
       "      <th>53</th>\n",
       "      <td>96906</td>\n",
       "      <td>Qvar</td>\n",
       "      <td>Asthma, Maintenance</td>\n",
       "      <td>\"I got heart palpitations, really bad - like almost constant. I was taking the 40 mcg one puff twice a day. I switched to flovemt and all is well.\"</td>\n",
       "      <td>1.0</td>\n",
       "      <td>November 15, 2015</td>\n",
       "      <td>16</td>\n",
       "    </tr>\n",
       "    <tr>\n",
       "      <th>54</th>\n",
       "      <td>215018</td>\n",
       "      <td>Opdivo</td>\n",
       "      <td>Non-Small Cell Lung Cance</td>\n",
       "      <td>\"My mother died from lung cancer. Her last hope of this medication. Within a couple months she was gone\"</td>\n",
       "      <td>1.0</td>\n",
       "      <td>March 2, 2017</td>\n",
       "      <td>6</td>\n",
       "    </tr>\n",
       "    <tr>\n",
       "      <th>56</th>\n",
       "      <td>60455</td>\n",
       "      <td>Pyridium</td>\n",
       "      <td>Dysuria</td>\n",
       "      <td>\"I&amp;#039;ve been having UTIs for 7 years, my most recent one has lasted 24 days so far. Because of this I went to the doctor and they prescribed me pyridium twice a day. I was very hopeful but unfortunately it didn&amp;#039;t work. The burning while urinating is still there and I&amp;#039;ve been on it for three days so far. Also discomfort all hours of the day down there. It may work well for others but my body doesn&amp;#039;t accept it, it did nothing. Going to the doctor was useless, go straight to the urologist\"</td>\n",
       "      <td>1.0</td>\n",
       "      <td>October 13, 2016</td>\n",
       "      <td>8</td>\n",
       "    </tr>\n",
       "    <tr>\n",
       "      <th>63</th>\n",
       "      <td>107449</td>\n",
       "      <td>Implanon</td>\n",
       "      <td>Birth Control</td>\n",
       "      <td>\"I have been on this for 8 months and sad to say it&amp;#039;s caused nothing but my self esteem to become lower. I&amp;#039;ve gained 10 lbs out of no where. I&amp;#039;m only 22 and have a fast metabolism. I thought it started to slow down but it didn&amp;#039;t make sense. My breasts got smaller, I have lost complete sex drive, my breasts aren&amp;#039;t sensitive anymore at all like they used to be and I&amp;#039;m so emotional, even crying at times. The only thing I can say is that it is 100% effective but not worth what it has done to my body. Not only that but I started breaking out on my body and on my face as well.\"</td>\n",
       "      <td>1.0</td>\n",
       "      <td>September 1, 2011</td>\n",
       "      <td>2</td>\n",
       "    </tr>\n",
       "  </tbody>\n",
       "</table>\n",
       "</div>"
      ],
      "text/plain": [
       "    uniqueid        drugName                  condition  \\\n",
       "6   165907    Levonorgestrel  Emergency Contraception     \n",
       "8   74811     Keppra          Epilepsy                    \n",
       "24  213649    Tioconazole     Vaginal Yeast Infection     \n",
       "33  214453    Tioconazole     Vaginal Yeast Infection     \n",
       "36  125343    Dulcolax        Constipation                \n",
       "51  135645    Intuniv         ADHD                        \n",
       "53  96906     Qvar            Asthma, Maintenance         \n",
       "54  215018    Opdivo          Non-Small Cell Lung Cance   \n",
       "56  60455     Pyridium        Dysuria                     \n",
       "63  107449    Implanon        Birth Control               \n",
       "\n",
       "                                                                                                                                                                                                                                                                                                                                                                                                                                                                                                                                                                                                                              review  \\\n",
       "6   \"He pulled out, but he cummed a bit in me. I took the Plan B 26 hours later, and took a pregnancy test two weeks later - - I&#039;m pregnant.\"                                                                                                                                                                                                                                                                                                                                                                                                                                                                                     \n",
       "8   \" I Ve had  nothing but problems with the Keppera : constant shaking in my arms &amp; legs &amp; pins &amp; needles feeling in my arms &amp; legs severe light headedness no appetite &amp; etc.\"                                                                                                                                                                                                                                                                                                                                                                                                                                  \n",
       "24  \"Do not use the cream that comes with this. It turned my hoo-ha into a burning ring of fire. It is 1 am and I have to work tomorrow. It&#039;s going to be a sleepless night for me\"                                                                                                                                                                                                                                                                                                                                                                                                                                               \n",
       "33  \"The burning is out of control about 20 minutes after inserting it . Sat in the bath trying to get this stuff out . This is awful\"                                                                                                                                                                                                                                                                                                                                                                                                                                                                                                 \n",
       "36  \"SO MUCH PAIN! \\r\\nIn the last 2 years I have suffered with a brain tumour so have been in a LOT of pain to the point of morphine everyday for a year. Then I had brain surgery...but the pain from this pill came pretty close!! In serious pain to the point of blacking out hot and cold shivers and just sat in pain feeling like trapped wind/indigestion it&#039;s just.. Ahhhh!!!! Don&#039;t take this!!!\"                                                                                                                                                                                                                 \n",
       "51  \"Intuniv did not work for my son; he was bouncing off the walls while he was taking it, and having major issues in class! It seems to work the opposite on him!\"                                                                                                                                                                                                                                                                                                                                                                                                                                                                   \n",
       "53  \"I got heart palpitations, really bad - like almost constant. I was taking the 40 mcg one puff twice a day. I switched to flovemt and all is well.\"                                                                                                                                                                                                                                                                                                                                                                                                                                                                                \n",
       "54  \"My mother died from lung cancer. Her last hope of this medication. Within a couple months she was gone\"                                                                                                                                                                                                                                                                                                                                                                                                                                                                                                                           \n",
       "56  \"I&#039;ve been having UTIs for 7 years, my most recent one has lasted 24 days so far. Because of this I went to the doctor and they prescribed me pyridium twice a day. I was very hopeful but unfortunately it didn&#039;t work. The burning while urinating is still there and I&#039;ve been on it for three days so far. Also discomfort all hours of the day down there. It may work well for others but my body doesn&#039;t accept it, it did nothing. Going to the doctor was useless, go straight to the urologist\"                                                                                                      \n",
       "63  \"I have been on this for 8 months and sad to say it&#039;s caused nothing but my self esteem to become lower. I&#039;ve gained 10 lbs out of no where. I&#039;m only 22 and have a fast metabolism. I thought it started to slow down but it didn&#039;t make sense. My breasts got smaller, I have lost complete sex drive, my breasts aren&#039;t sensitive anymore at all like they used to be and I&#039;m so emotional, even crying at times. The only thing I can say is that it is 100% effective but not worth what it has done to my body. Not only that but I started breaking out on my body and on my face as well.\"   \n",
       "\n",
       "    rating                date  usefulCount  \n",
       "6   1.0     March 7, 2017       5            \n",
       "8   1.0     August 9, 2016      11           \n",
       "24  1.0     April 17, 2017      7            \n",
       "33  1.0     September 11, 2015  2            \n",
       "36  1.0     February 13, 2016   10           \n",
       "51  1.0     July 21, 2011       23           \n",
       "53  1.0     November 15, 2015   16           \n",
       "54  1.0     March 2, 2017       6            \n",
       "56  1.0     October 13, 2016    8            \n",
       "63  1.0     September 1, 2011   2            "
      ]
     },
     "execution_count": 28,
     "metadata": {},
     "output_type": "execute_result"
    }
   ],
   "source": [
    "# Lets check out some of the zero rating comments\n",
    "df_train[df_train['rating']==1].head(10)"
   ]
  },
  {
   "cell_type": "markdown",
   "metadata": {},
   "source": [
    "### Comment\n",
    "\n",
    "There are 21619 bad ratings (i.e rating = 1). "
   ]
  },
  {
   "cell_type": "code",
   "execution_count": 29,
   "metadata": {},
   "outputs": [],
   "source": [
    "# Converting date to datetime format\n",
    "df_train['date'] = pd.to_datetime(df_train['date'])\n",
    "df_test['date'] = pd.to_datetime(df_test['date'])"
   ]
  },
  {
   "cell_type": "code",
   "execution_count": 30,
   "metadata": {},
   "outputs": [],
   "source": [
    "# Extracting out the month and year into separate column, prepare for time series analysis\n",
    "df_train['month'] = pd.DatetimeIndex(df_train['date']).month\n",
    "df_train['year'] = pd.DatetimeIndex(df_train['date']).year\n",
    "df_test['month'] = pd.DatetimeIndex(df_test['date']).month\n",
    "df_test['year'] = pd.DatetimeIndex(df_test['date']).year"
   ]
  },
  {
   "cell_type": "code",
   "execution_count": 31,
   "metadata": {},
   "outputs": [
    {
     "data": {
      "text/plain": [
       "2016    34842\n",
       "2017    28087\n",
       "2015    27164\n",
       "2013    12278\n",
       "2014    12051\n",
       "2011    11682\n",
       "2009    11636\n",
       "2012    10007\n",
       "2010    8413 \n",
       "2008    5137 \n",
       "Name: year, dtype: int64"
      ]
     },
     "execution_count": 31,
     "metadata": {},
     "output_type": "execute_result"
    }
   ],
   "source": [
    "# Lets check the data come from which year\n",
    "df_train['year'].value_counts()"
   ]
  },
  {
   "cell_type": "code",
   "execution_count": 32,
   "metadata": {},
   "outputs": [
    {
     "data": {
      "text/plain": [
       "8     14554\n",
       "10    14038\n",
       "3     13956\n",
       "11    13875\n",
       "7     13852\n",
       "4     13736\n",
       "1     13657\n",
       "9     13475\n",
       "5     13345\n",
       "6     12749\n",
       "2     12041\n",
       "12    12019\n",
       "Name: month, dtype: int64"
      ]
     },
     "execution_count": 32,
     "metadata": {},
     "output_type": "execute_result"
    }
   ],
   "source": [
    "# Lets take a look the data come from which month\n",
    "df_train['month'].value_counts()"
   ]
  },
  {
   "cell_type": "markdown",
   "metadata": {},
   "source": [
    "## Data Preprocessing"
   ]
  },
  {
   "cell_type": "code",
   "execution_count": 33,
   "metadata": {},
   "outputs": [],
   "source": [
    "### Duplicated reviews removed \n",
    "df_train['review'].drop_duplicates(keep='first', inplace=True)\n",
    "df_test['review'].drop_duplicates(keep='first', inplace=True)"
   ]
  },
  {
   "cell_type": "code",
   "execution_count": 34,
   "metadata": {},
   "outputs": [
    {
     "data": {
      "text/plain": [
       "False    48280\n",
       "Name: review, dtype: int64"
      ]
     },
     "execution_count": 34,
     "metadata": {},
     "output_type": "execute_result"
    }
   ],
   "source": [
    "## Making sure all duplicated rows dropped \n",
    "df_train['review'].duplicated().value_counts()\n",
    "df_test['review'].duplicated().value_counts()"
   ]
  },
  {
   "cell_type": "code",
   "execution_count": 35,
   "metadata": {},
   "outputs": [],
   "source": [
    "# Dropping all null cells\n",
    "df_train.dropna(inplace=True)\n",
    "df_test.dropna(inplace=True)"
   ]
  },
  {
   "cell_type": "code",
   "execution_count": 36,
   "metadata": {},
   "outputs": [
    {
     "data": {
      "text/plain": [
       "uniqueid       0\n",
       "drugName       0\n",
       "condition      0\n",
       "review         0\n",
       "rating         0\n",
       "date           0\n",
       "usefulCount    0\n",
       "month          0\n",
       "year           0\n",
       "dtype: int64"
      ]
     },
     "execution_count": 36,
     "metadata": {},
     "output_type": "execute_result"
    }
   ],
   "source": [
    "# Checking all null cells dropped \n",
    "df_train.isnull().sum()"
   ]
  },
  {
   "cell_type": "code",
   "execution_count": 37,
   "metadata": {},
   "outputs": [
    {
     "data": {
      "text/plain": [
       "uniqueid       0\n",
       "drugName       0\n",
       "condition      0\n",
       "review         0\n",
       "rating         0\n",
       "date           0\n",
       "usefulCount    0\n",
       "month          0\n",
       "year           0\n",
       "dtype: int64"
      ]
     },
     "execution_count": 37,
     "metadata": {},
     "output_type": "execute_result"
    }
   ],
   "source": [
    "# Checking all null cells dropped\n",
    "df_test.isnull().sum()"
   ]
  },
  {
   "cell_type": "code",
   "execution_count": 38,
   "metadata": {},
   "outputs": [],
   "source": [
    "# I have seen some emojis in review, it needs to be removed\n",
    "def strip_emoji(text):\n",
    "    RE_EMOJI = re.compile(u'([\\U00002600-\\U000027BF])|([\\U0001f300-\\U0001f64F])|([\\U0001f680-\\U0001f6FF])')\n",
    "    return RE_EMOJI.sub(r'', text)"
   ]
  },
  {
   "cell_type": "code",
   "execution_count": 39,
   "metadata": {},
   "outputs": [],
   "source": [
    "def cleaner(text):\n",
    "    # Make lowercase\n",
    "    text = text.lower()\n",
    "    \n",
    "    # Remove non-letters\n",
    "    text = re.sub(\"[^a-zA-Z]\", \" \", text)\n",
    "\n",
    "    # Remove HTML special entities (e.g. &amp;)\n",
    "    text = re.sub(r'\\&\\w*;', '', text)\n",
    "    \n",
    "    # Remove hyperlinks\n",
    "    text = re.sub(r'https?:\\/\\/.*\\/\\w*', '', text)\n",
    "    \n",
    "    # Remove punctuation and split 's, 't, 've with a space for filter\n",
    "    text = re.sub(r'[' + string.punctuation.replace('@', '') + ']+', ' ', text)\n",
    "    \n",
    "    # Remove words with 2 or fewer letters\n",
    "    text = re.sub(r'\\b\\w{1,2}\\b', '', text)\n",
    "    \n",
    "    # Remove whitespace (including new line characters)\n",
    "    text = re.sub(r'\\s\\s+', ' ', text)\n",
    "    \n",
    "    # Remove emoji\n",
    "    text = strip_emoji(text)\n",
    "    \n",
    "    # Remove characters beyond Basic Multilingual Plane (BMP) of Unicode:\n",
    "    text = ''.join(c for c in text if c <= '\\uFFFF') \n",
    "    \n",
    "    return text"
   ]
  },
  {
   "cell_type": "code",
   "execution_count": 40,
   "metadata": {},
   "outputs": [],
   "source": [
    "# Applying function\n",
    "df_train['review'] = df_train['review'].apply(cleaner)\n",
    "df_test['review'] = df_test['review'].apply(cleaner)"
   ]
  },
  {
   "cell_type": "code",
   "execution_count": 41,
   "metadata": {},
   "outputs": [],
   "source": [
    "# I have chosen to use lemmatizer over porter stemmer because \n",
    "# Lemmatization, takes into consideration the morphological analysis of the words.\n",
    "lemmatizer = WordNetLemmatizer()"
   ]
  },
  {
   "cell_type": "code",
   "execution_count": 42,
   "metadata": {},
   "outputs": [],
   "source": [
    "def lemmatize_words(text):\n",
    "    words = text.split()\n",
    "    lemma_words = ''\n",
    "    for word in words:\n",
    "        lemma_words += (lemmatizer.lemmatize(word) + ' ')\n",
    "    return lemma_words"
   ]
  },
  {
   "cell_type": "code",
   "execution_count": 43,
   "metadata": {},
   "outputs": [],
   "source": [
    "df_train['review'] = df_train['review'].apply(lemmatize_words)\n",
    "df_test['review'] = df_test['review'].apply(lemmatize_words)"
   ]
  },
  {
   "cell_type": "code",
   "execution_count": 44,
   "metadata": {},
   "outputs": [],
   "source": [
    "df_train['text length'] = df_train['review'].apply(len)\n",
    "df_test['text length'] = df_test['review'].apply(len)"
   ]
  },
  {
   "cell_type": "code",
   "execution_count": 45,
   "metadata": {},
   "outputs": [],
   "source": [
    "df_train['sentiment'] = df_train['rating'].apply(lambda s: 1 if (s>=5) else 0)\n",
    "df_test['sentiment'] = df_test['rating'].apply(lambda s: 1 if (s>=5) else 0)"
   ]
  },
  {
   "cell_type": "code",
   "execution_count": 50,
   "metadata": {},
   "outputs": [],
   "source": [
    "df_train.to_csv(\"./datasets/df_train_cleaned.csv\", index=False)\n",
    "df_test.to_csv(\"./datasets/df_test_cleaned.csv\", index=False)"
   ]
  },
  {
   "cell_type": "code",
   "execution_count": 52,
   "metadata": {},
   "outputs": [
    {
     "data": {
      "text/html": [
       "<div>\n",
       "<style scoped>\n",
       "    .dataframe tbody tr th:only-of-type {\n",
       "        vertical-align: middle;\n",
       "    }\n",
       "\n",
       "    .dataframe tbody tr th {\n",
       "        vertical-align: top;\n",
       "    }\n",
       "\n",
       "    .dataframe thead th {\n",
       "        text-align: right;\n",
       "    }\n",
       "</style>\n",
       "<table border=\"1\" class=\"dataframe\">\n",
       "  <thead>\n",
       "    <tr style=\"text-align: right;\">\n",
       "      <th></th>\n",
       "      <th>uniqueid</th>\n",
       "      <th>drugName</th>\n",
       "      <th>condition</th>\n",
       "      <th>review</th>\n",
       "      <th>rating</th>\n",
       "      <th>date</th>\n",
       "      <th>usefulCount</th>\n",
       "      <th>month</th>\n",
       "      <th>year</th>\n",
       "      <th>text length</th>\n",
       "      <th>sentiment</th>\n",
       "    </tr>\n",
       "  </thead>\n",
       "  <tbody>\n",
       "    <tr>\n",
       "      <th>0</th>\n",
       "      <td>206461</td>\n",
       "      <td>Valsartan</td>\n",
       "      <td>Left Ventricular Dysfunction</td>\n",
       "      <td>ha side effect take combination bystolic and fish oil</td>\n",
       "      <td>9.0</td>\n",
       "      <td>2012-05-20</td>\n",
       "      <td>27</td>\n",
       "      <td>5</td>\n",
       "      <td>2012</td>\n",
       "      <td>54</td>\n",
       "      <td>1</td>\n",
       "    </tr>\n",
       "    <tr>\n",
       "      <th>1</th>\n",
       "      <td>95260</td>\n",
       "      <td>Guanfacine</td>\n",
       "      <td>ADHD</td>\n",
       "      <td>son halfway through his fourth week intuniv became concerned when began this last week when started taking the highest dose will for two day could hardly get out bed wa very cranky and slept for nearly hour drive home from school vacation very unusual for him called his doctor monday morning and she said stick out few day see how did school and with getting the morning the last two day have been problem free much more agreeable than ever le emotional good thing le cranky remembering all the thing should overall his behavior better have tried many different medication and far this the most effective</td>\n",
       "      <td>8.0</td>\n",
       "      <td>2010-04-27</td>\n",
       "      <td>192</td>\n",
       "      <td>4</td>\n",
       "      <td>2010</td>\n",
       "      <td>606</td>\n",
       "      <td>1</td>\n",
       "    </tr>\n",
       "    <tr>\n",
       "      <th>2</th>\n",
       "      <td>92703</td>\n",
       "      <td>Lybrel</td>\n",
       "      <td>Birth Control</td>\n",
       "      <td>used take another oral contraceptive which had pill cycle and wa very happy very light period max day other side effect but contained hormone gestodene which not available switched lybrel because the ingredient are similar when other pill ended started lybrel immediately first day period the instruction said and the period lasted for two week when taking the second pack same two week and now with third pack thing got even worse third period lasted for two week and now the end the third week still have daily brown discharge the positive side that didn have any other side effect the idea being period free wa tempting ala</td>\n",
       "      <td>5.0</td>\n",
       "      <td>2009-12-14</td>\n",
       "      <td>17</td>\n",
       "      <td>12</td>\n",
       "      <td>2009</td>\n",
       "      <td>627</td>\n",
       "      <td>1</td>\n",
       "    </tr>\n",
       "    <tr>\n",
       "      <th>3</th>\n",
       "      <td>138000</td>\n",
       "      <td>Ortho Evra</td>\n",
       "      <td>Birth Control</td>\n",
       "      <td>this first time using any form birth control glad went with the patch have been for month first decreased libido but that subsided the only downside that made period longer day exact used only have period for day max also made cramp intense for the first two day period never had cramp before using birth control other than that happy with the patch</td>\n",
       "      <td>8.0</td>\n",
       "      <td>2015-11-03</td>\n",
       "      <td>10</td>\n",
       "      <td>11</td>\n",
       "      <td>2015</td>\n",
       "      <td>350</td>\n",
       "      <td>1</td>\n",
       "    </tr>\n",
       "    <tr>\n",
       "      <th>4</th>\n",
       "      <td>35696</td>\n",
       "      <td>Buprenorphine / naloxone</td>\n",
       "      <td>Opiate Dependence</td>\n",
       "      <td>suboxone ha completely turned life around feel healthier excelling job and always have money pocket and saving account had none those before suboxone and spent year abusing oxycontin paycheck wa already spent the time got and started resorting scheming and stealing fund addiction all that history you ready stop there good chance that suboxone will put you the path great life again have found the side effect minimal compared oxycontin actually sleeping better slight constipation about for truly amazing the cost pale comparison what spent oxycontin</td>\n",
       "      <td>9.0</td>\n",
       "      <td>2016-11-27</td>\n",
       "      <td>37</td>\n",
       "      <td>11</td>\n",
       "      <td>2016</td>\n",
       "      <td>553</td>\n",
       "      <td>1</td>\n",
       "    </tr>\n",
       "  </tbody>\n",
       "</table>\n",
       "</div>"
      ],
      "text/plain": [
       "   uniqueid                  drugName                     condition  \\\n",
       "0  206461    Valsartan                 Left Ventricular Dysfunction   \n",
       "1  95260     Guanfacine                ADHD                           \n",
       "2  92703     Lybrel                    Birth Control                  \n",
       "3  138000    Ortho Evra                Birth Control                  \n",
       "4  35696     Buprenorphine / naloxone  Opiate Dependence              \n",
       "\n",
       "                                                                                                                                                                                                                                                                                                                                                                                                                                                                                                                                                                                                                                                review  \\\n",
       "0  ha side effect take combination bystolic and fish oil                                                                                                                                                                                                                                                                                                                                                                                                                                                                                                                                                                                                 \n",
       "1  son halfway through his fourth week intuniv became concerned when began this last week when started taking the highest dose will for two day could hardly get out bed wa very cranky and slept for nearly hour drive home from school vacation very unusual for him called his doctor monday morning and she said stick out few day see how did school and with getting the morning the last two day have been problem free much more agreeable than ever le emotional good thing le cranky remembering all the thing should overall his behavior better have tried many different medication and far this the most effective                         \n",
       "2  used take another oral contraceptive which had pill cycle and wa very happy very light period max day other side effect but contained hormone gestodene which not available switched lybrel because the ingredient are similar when other pill ended started lybrel immediately first day period the instruction said and the period lasted for two week when taking the second pack same two week and now with third pack thing got even worse third period lasted for two week and now the end the third week still have daily brown discharge the positive side that didn have any other side effect the idea being period free wa tempting ala    \n",
       "3  this first time using any form birth control glad went with the patch have been for month first decreased libido but that subsided the only downside that made period longer day exact used only have period for day max also made cramp intense for the first two day period never had cramp before using birth control other than that happy with the patch                                                                                                                                                                                                                                                                                         \n",
       "4  suboxone ha completely turned life around feel healthier excelling job and always have money pocket and saving account had none those before suboxone and spent year abusing oxycontin paycheck wa already spent the time got and started resorting scheming and stealing fund addiction all that history you ready stop there good chance that suboxone will put you the path great life again have found the side effect minimal compared oxycontin actually sleeping better slight constipation about for truly amazing the cost pale comparison what spent oxycontin                                                                              \n",
       "\n",
       "   rating        date  usefulCount  month  year  text length  sentiment  \n",
       "0  9.0     2012-05-20  27           5      2012  54           1          \n",
       "1  8.0     2010-04-27  192          4      2010  606          1          \n",
       "2  5.0     2009-12-14  17           12     2009  627          1          \n",
       "3  8.0     2015-11-03  10           11     2015  350          1          \n",
       "4  9.0     2016-11-27  37           11     2016  553          1          "
      ]
     },
     "execution_count": 52,
     "metadata": {},
     "output_type": "execute_result"
    }
   ],
   "source": [
    "# Checking df_train_cleaned export properly\n",
    "df_train_cleaned = pd.read_csv(\"./datasets/df_train_cleaned.csv\")\n",
    "df_train_cleaned.head()"
   ]
  },
  {
   "cell_type": "code",
   "execution_count": 53,
   "metadata": {},
   "outputs": [
    {
     "data": {
      "text/html": [
       "<div>\n",
       "<style scoped>\n",
       "    .dataframe tbody tr th:only-of-type {\n",
       "        vertical-align: middle;\n",
       "    }\n",
       "\n",
       "    .dataframe tbody tr th {\n",
       "        vertical-align: top;\n",
       "    }\n",
       "\n",
       "    .dataframe thead th {\n",
       "        text-align: right;\n",
       "    }\n",
       "</style>\n",
       "<table border=\"1\" class=\"dataframe\">\n",
       "  <thead>\n",
       "    <tr style=\"text-align: right;\">\n",
       "      <th></th>\n",
       "      <th>uniqueid</th>\n",
       "      <th>drugName</th>\n",
       "      <th>condition</th>\n",
       "      <th>review</th>\n",
       "      <th>rating</th>\n",
       "      <th>date</th>\n",
       "      <th>usefulCount</th>\n",
       "      <th>month</th>\n",
       "      <th>year</th>\n",
       "      <th>text length</th>\n",
       "      <th>sentiment</th>\n",
       "    </tr>\n",
       "  </thead>\n",
       "  <tbody>\n",
       "    <tr>\n",
       "      <th>0</th>\n",
       "      <td>163740</td>\n",
       "      <td>Mirtazapine</td>\n",
       "      <td>Depression</td>\n",
       "      <td>tried few antidepressant over the year citalopram fluoxetine amitriptyline but none those helped with depression insomnia amp anxiety doctor suggested and changed onto mirtazapine and this medicine ha saved life thankfully have had side effect especially the most common weight gain actually lost alot weight still have suicidal thought but mirtazapine ha saved</td>\n",
       "      <td>10.0</td>\n",
       "      <td>2012-02-28</td>\n",
       "      <td>22</td>\n",
       "      <td>2</td>\n",
       "      <td>2012</td>\n",
       "      <td>362</td>\n",
       "      <td>1</td>\n",
       "    </tr>\n",
       "    <tr>\n",
       "      <th>1</th>\n",
       "      <td>206473</td>\n",
       "      <td>Mesalamine</td>\n",
       "      <td>Crohn's Disease, Maintenance</td>\n",
       "      <td>son ha crohn disease and ha done very well the asacol ha complaint and show side effect ha taken many nine tablet per day one time been very happy with the result reducing his bout diarrhea drastically</td>\n",
       "      <td>8.0</td>\n",
       "      <td>2009-05-17</td>\n",
       "      <td>17</td>\n",
       "      <td>5</td>\n",
       "      <td>2009</td>\n",
       "      <td>202</td>\n",
       "      <td>1</td>\n",
       "    </tr>\n",
       "    <tr>\n",
       "      <th>2</th>\n",
       "      <td>159672</td>\n",
       "      <td>Bactrim</td>\n",
       "      <td>Urinary Tract Infection</td>\n",
       "      <td>quick reduction symptom</td>\n",
       "      <td>9.0</td>\n",
       "      <td>2017-09-29</td>\n",
       "      <td>3</td>\n",
       "      <td>9</td>\n",
       "      <td>2017</td>\n",
       "      <td>24</td>\n",
       "      <td>1</td>\n",
       "    </tr>\n",
       "    <tr>\n",
       "      <th>3</th>\n",
       "      <td>39293</td>\n",
       "      <td>Contrave</td>\n",
       "      <td>Weight Loss</td>\n",
       "      <td>contrave combine drug that were used for alcohol smoking and opioid cessation people lose weight because also help control over eating have doubt that most obesity caused from sugar carb addiction which just powerful any drug have been taking for five day and the good news seems work immediately feel hungry before want food now really don care eat just fill stomach since have only been few day don know lost weight don have scale but clothes feel little looser maybe pound two hoping that after few month this medication will develop healthier habit that can continue without the aid contrave</td>\n",
       "      <td>9.0</td>\n",
       "      <td>2017-03-05</td>\n",
       "      <td>35</td>\n",
       "      <td>3</td>\n",
       "      <td>2017</td>\n",
       "      <td>596</td>\n",
       "      <td>1</td>\n",
       "    </tr>\n",
       "    <tr>\n",
       "      <th>4</th>\n",
       "      <td>97768</td>\n",
       "      <td>Cyclafem 1 / 35</td>\n",
       "      <td>Birth Control</td>\n",
       "      <td>have been this birth control for one cycle after reading some the review this type and similar birth control wa bit apprehensive start giving this birth control out have not been long enough for far love this birth control side effect have been minimal it like not even birth control have experienced mild headache here and there and some nausea but other than that ive been feeling great got period cue the third day the inactive pill and had idea wa coming because had zero pm period wa very light and barely had any cramping had unprotected sex the first month and obviously didn get pregnant very pleased highly recommend</td>\n",
       "      <td>9.0</td>\n",
       "      <td>2015-10-22</td>\n",
       "      <td>4</td>\n",
       "      <td>10</td>\n",
       "      <td>2015</td>\n",
       "      <td>626</td>\n",
       "      <td>1</td>\n",
       "    </tr>\n",
       "  </tbody>\n",
       "</table>\n",
       "</div>"
      ],
      "text/plain": [
       "   uniqueid         drugName                     condition  \\\n",
       "0  163740    Mirtazapine      Depression                     \n",
       "1  206473    Mesalamine       Crohn's Disease, Maintenance   \n",
       "2  159672    Bactrim          Urinary Tract Infection        \n",
       "3  39293     Contrave         Weight Loss                    \n",
       "4  97768     Cyclafem 1 / 35  Birth Control                  \n",
       "\n",
       "                                                                                                                                                                                                                                                                                                                                                                                                                                                                                                                                                                                                                                               review  \\\n",
       "0  tried few antidepressant over the year citalopram fluoxetine amitriptyline but none those helped with depression insomnia amp anxiety doctor suggested and changed onto mirtazapine and this medicine ha saved life thankfully have had side effect especially the most common weight gain actually lost alot weight still have suicidal thought but mirtazapine ha saved                                                                                                                                                                                                                                                                            \n",
       "1  son ha crohn disease and ha done very well the asacol ha complaint and show side effect ha taken many nine tablet per day one time been very happy with the result reducing his bout diarrhea drastically                                                                                                                                                                                                                                                                                                                                                                                                                                            \n",
       "2  quick reduction symptom                                                                                                                                                                                                                                                                                                                                                                                                                                                                                                                                                                                                                              \n",
       "3  contrave combine drug that were used for alcohol smoking and opioid cessation people lose weight because also help control over eating have doubt that most obesity caused from sugar carb addiction which just powerful any drug have been taking for five day and the good news seems work immediately feel hungry before want food now really don care eat just fill stomach since have only been few day don know lost weight don have scale but clothes feel little looser maybe pound two hoping that after few month this medication will develop healthier habit that can continue without the aid contrave                                  \n",
       "4  have been this birth control for one cycle after reading some the review this type and similar birth control wa bit apprehensive start giving this birth control out have not been long enough for far love this birth control side effect have been minimal it like not even birth control have experienced mild headache here and there and some nausea but other than that ive been feeling great got period cue the third day the inactive pill and had idea wa coming because had zero pm period wa very light and barely had any cramping had unprotected sex the first month and obviously didn get pregnant very pleased highly recommend    \n",
       "\n",
       "   rating        date  usefulCount  month  year  text length  sentiment  \n",
       "0  10.0    2012-02-28  22           2      2012  362          1          \n",
       "1  8.0     2009-05-17  17           5      2009  202          1          \n",
       "2  9.0     2017-09-29  3            9      2017  24           1          \n",
       "3  9.0     2017-03-05  35           3      2017  596          1          \n",
       "4  9.0     2015-10-22  4            10     2015  626          1          "
      ]
     },
     "execution_count": 53,
     "metadata": {},
     "output_type": "execute_result"
    }
   ],
   "source": [
    "# Checking df_test_cleaned export properly\n",
    "df_test_cleaned = pd.read_csv(\"./datasets/df_test_cleaned.csv\")\n",
    "df_test_cleaned.head()"
   ]
  }
 ],
 "metadata": {
  "kernelspec": {
   "display_name": "Python 3",
   "language": "python",
   "name": "python3"
  },
  "language_info": {
   "codemirror_mode": {
    "name": "ipython",
    "version": 3
   },
   "file_extension": ".py",
   "mimetype": "text/x-python",
   "name": "python",
   "nbconvert_exporter": "python",
   "pygments_lexer": "ipython3",
   "version": "3.8.3"
  }
 },
 "nbformat": 4,
 "nbformat_minor": 4
}
